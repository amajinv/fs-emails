{
 "cells": [
  {
   "cell_type": "code",
<<<<<<< HEAD
   "execution_count": 22,
=======
   "execution_count": 39,
>>>>>>> e35c6c21a5725e941f7f2464346d3ecc2f91b5c7
   "metadata": {},
   "outputs": [],
   "source": [
    "import pandas as pd"
   ]
  },
  {
   "cell_type": "code",
<<<<<<< HEAD
   "execution_count": 23,
   "metadata": {},
   "outputs": [],
   "source": [
    "f3_name ='220119-0827-f3-output'\n",
=======
   "execution_count": 40,
   "metadata": {},
   "outputs": [],
   "source": [
    "f3_name ='f3'\n",
>>>>>>> e35c6c21a5725e941f7f2464346d3ecc2f91b5c7
    "f3 = pd.read_csv(f'input_planillas/{f3_name}.csv', sep=';')"
   ]
  },
  {
   "cell_type": "code",
<<<<<<< HEAD
   "execution_count": 24,
=======
   "execution_count": 41,
>>>>>>> e35c6c21a5725e941f7f2464346d3ecc2f91b5c7
   "metadata": {},
   "outputs": [
    {
     "data": {
      "text/html": [
       "<div>\n",
       "<style scoped>\n",
       "    .dataframe tbody tr th:only-of-type {\n",
       "        vertical-align: middle;\n",
       "    }\n",
       "\n",
       "    .dataframe tbody tr th {\n",
       "        vertical-align: top;\n",
       "    }\n",
       "\n",
       "    .dataframe thead th {\n",
       "        text-align: right;\n",
       "    }\n",
       "</style>\n",
       "<table border=\"1\" class=\"dataframe\">\n",
       "  <thead>\n",
       "    <tr style=\"text-align: right;\">\n",
       "      <th></th>\n",
       "      <th>nro_devolucion</th>\n",
       "      <th>fecha_reserva</th>\n",
       "      <th>fecha_envio</th>\n",
       "      <th>fecha_anulacion</th>\n",
       "      <th>fecha_confirmacion</th>\n",
       "      <th>nro_guia</th>\n",
       "      <th>tipo_producto</th>\n",
       "      <th>upc</th>\n",
       "      <th>sku</th>\n",
       "      <th>descripcion</th>\n",
       "      <th>...</th>\n",
       "      <th>cantidad</th>\n",
       "      <th>cant*costo</th>\n",
       "      <th>cant*costoprmd</th>\n",
       "      <th>diferencia</th>\n",
       "      <th>cant*precio</th>\n",
       "      <th>tipo_documento_para_dev</th>\n",
       "      <th>usuario_que_confirma</th>\n",
       "      <th>nc_proveedor</th>\n",
       "      <th>folio_f11</th>\n",
       "      <th>folio_f12</th>\n",
       "    </tr>\n",
       "  </thead>\n",
       "  <tbody>\n",
       "    <tr>\n",
       "      <th>0</th>\n",
       "      <td>32300000</td>\n",
       "      <td>27-jun-2018</td>\n",
       "      <td>27-jun-2018</td>\n",
       "      <td>30-jul-2018</td>\n",
       "      <td>NaN</td>\n",
       "      <td>174446.0</td>\n",
       "      <td>producto</td>\n",
       "      <td>889296228622</td>\n",
       "      <td>3016887</td>\n",
       "      <td>multifuncional todo en uno ia 45(d)</td>\n",
       "      <td>...</td>\n",
       "      <td>1</td>\n",
       "      <td>89980</td>\n",
       "      <td>89990</td>\n",
       "      <td>10.0</td>\n",
       "      <td>299990</td>\n",
       "      <td>nota credito</td>\n",
       "      <td>ljgomez</td>\n",
       "      <td>r6236521892</td>\n",
       "      <td>117062670.0</td>\n",
       "      <td>NaN</td>\n",
       "    </tr>\n",
       "    <tr>\n",
       "      <th>1</th>\n",
       "      <td>32470000</td>\n",
       "      <td>01-ago-2019</td>\n",
       "      <td>01-ago-2019</td>\n",
       "      <td>30-ago-2019</td>\n",
       "      <td>NaN</td>\n",
       "      <td>189551.0</td>\n",
       "      <td>producto</td>\n",
       "      <td>4718017263665</td>\n",
       "      <td>3869248</td>\n",
       "      <td>zenfone live  l2 2-16</td>\n",
       "      <td>...</td>\n",
       "      <td>1</td>\n",
       "      <td>340739</td>\n",
       "      <td>358409</td>\n",
       "      <td>17670.0</td>\n",
       "      <td>499990</td>\n",
       "      <td>nota credito</td>\n",
       "      <td>ljgomez</td>\n",
       "      <td>151119074001630</td>\n",
       "      <td>118821214.0</td>\n",
       "      <td>NaN</td>\n",
       "    </tr>\n",
       "    <tr>\n",
       "      <th>2</th>\n",
       "      <td>32540000</td>\n",
       "      <td>22-feb-2020</td>\n",
       "      <td>22-feb-2020</td>\n",
       "      <td>21-ago-2020</td>\n",
       "      <td>NaN</td>\n",
       "      <td>195585.0</td>\n",
       "      <td>market place</td>\n",
       "      <td>2004125298005</td>\n",
       "      <td>4125298</td>\n",
       "      <td>pantalon termico reductor para dama</td>\n",
       "      <td>...</td>\n",
       "      <td>1</td>\n",
       "      <td>199800</td>\n",
       "      <td>199800</td>\n",
       "      <td>0.0</td>\n",
       "      <td>199800</td>\n",
       "      <td>sin comprobante</td>\n",
       "      <td>ljgomez</td>\n",
       "      <td>NaN</td>\n",
       "      <td>NaN</td>\n",
       "      <td>NaN</td>\n",
       "    </tr>\n",
       "    <tr>\n",
       "      <th>3</th>\n",
       "      <td>32610000</td>\n",
       "      <td>18-sep-2020</td>\n",
       "      <td>18-sep-2020</td>\n",
       "      <td>29-oct-2020</td>\n",
       "      <td>NaN</td>\n",
       "      <td>201969.0</td>\n",
       "      <td>producto</td>\n",
       "      <td>7703081060545</td>\n",
       "      <td>4070103</td>\n",
       "      <td>multicolor fem jr x5 9905 8-10</td>\n",
       "      <td>...</td>\n",
       "      <td>2</td>\n",
       "      <td>46964</td>\n",
       "      <td>46733</td>\n",
       "      <td>230.0</td>\n",
       "      <td>89980</td>\n",
       "      <td>sin comprobante</td>\n",
       "      <td>ljgomez</td>\n",
       "      <td>NaN</td>\n",
       "      <td>NaN</td>\n",
       "      <td>NaN</td>\n",
       "    </tr>\n",
       "    <tr>\n",
       "      <th>4</th>\n",
       "      <td>32610000</td>\n",
       "      <td>18-sep-2020</td>\n",
       "      <td>18-sep-2020</td>\n",
       "      <td>29-oct-2020</td>\n",
       "      <td>NaN</td>\n",
       "      <td>201969.0</td>\n",
       "      <td>producto</td>\n",
       "      <td>7703081061993</td>\n",
       "      <td>4948757</td>\n",
       "      <td>brecia x5 pb 9904 9-11</td>\n",
       "      <td>...</td>\n",
       "      <td>1</td>\n",
       "      <td>20205</td>\n",
       "      <td>20205</td>\n",
       "      <td>0.0</td>\n",
       "      <td>36990</td>\n",
       "      <td>sin comprobante</td>\n",
       "      <td>ljgomez</td>\n",
       "      <td>NaN</td>\n",
       "      <td>NaN</td>\n",
       "      <td>NaN</td>\n",
       "    </tr>\n",
       "  </tbody>\n",
       "</table>\n",
       "<p>5 rows × 35 columns</p>\n",
       "</div>"
      ],
      "text/plain": [
       "   nro_devolucion fecha_reserva  fecha_envio fecha_anulacion  \\\n",
       "0        32300000   27-jun-2018  27-jun-2018     30-jul-2018   \n",
       "1        32470000   01-ago-2019  01-ago-2019     30-ago-2019   \n",
       "2        32540000   22-feb-2020  22-feb-2020     21-ago-2020   \n",
       "3        32610000   18-sep-2020  18-sep-2020     29-oct-2020   \n",
       "4        32610000   18-sep-2020  18-sep-2020     29-oct-2020   \n",
       "\n",
       "  fecha_confirmacion  nro_guia tipo_producto            upc      sku  \\\n",
       "0                NaN  174446.0      producto   889296228622  3016887   \n",
       "1                NaN  189551.0      producto  4718017263665  3869248   \n",
       "2                NaN  195585.0  market place  2004125298005  4125298   \n",
       "3                NaN  201969.0      producto  7703081060545  4070103   \n",
       "4                NaN  201969.0      producto  7703081061993  4948757   \n",
       "\n",
       "                           descripcion  ... cantidad cant*costo  \\\n",
       "0  multifuncional todo en uno ia 45(d)  ...        1      89980   \n",
       "1                zenfone live  l2 2-16  ...        1     340739   \n",
       "2  pantalon termico reductor para dama  ...        1     199800   \n",
       "3       multicolor fem jr x5 9905 8-10  ...        2      46964   \n",
       "4               brecia x5 pb 9904 9-11  ...        1      20205   \n",
       "\n",
       "  cant*costoprmd diferencia cant*precio tipo_documento_para_dev  \\\n",
       "0          89990       10.0      299990            nota credito   \n",
       "1         358409    17670.0      499990            nota credito   \n",
       "2         199800        0.0      199800         sin comprobante   \n",
       "3          46733      230.0       89980         sin comprobante   \n",
       "4          20205        0.0       36990         sin comprobante   \n",
       "\n",
       "  usuario_que_confirma     nc_proveedor    folio_f11 folio_f12  \n",
       "0              ljgomez      r6236521892  117062670.0       NaN  \n",
       "1              ljgomez  151119074001630  118821214.0       NaN  \n",
       "2              ljgomez              NaN          NaN       NaN  \n",
       "3              ljgomez              NaN          NaN       NaN  \n",
       "4              ljgomez              NaN          NaN       NaN  \n",
       "\n",
       "[5 rows x 35 columns]"
      ]
     },
<<<<<<< HEAD
     "execution_count": 24,
=======
     "execution_count": 41,
>>>>>>> e35c6c21a5725e941f7f2464346d3ecc2f91b5c7
     "metadata": {},
     "output_type": "execute_result"
    }
   ],
   "source": [
    "f3.head()"
   ]
  },
  {
   "cell_type": "code",
<<<<<<< HEAD
   "execution_count": 25,
=======
   "execution_count": 42,
>>>>>>> e35c6c21a5725e941f7f2464346d3ecc2f91b5c7
   "metadata": {},
   "outputs": [],
   "source": [
    "f3[\"fecha_reserva\"] = f3[\"fecha_reserva\"].replace([\"ene\", \"abr\", \"ago\", \"dic\"], [\"jan\", \"apr\", \"aug\", \"dec\"], regex=True)  # cambio idioma mes\n",
    "f3[\"fecha_reserva\"] = pd.to_datetime(f3[\"fecha_reserva\"], format='%d-%b-%Y')  # cambio de tipo de dato   "
   ]
  },
  {
   "cell_type": "code",
<<<<<<< HEAD
   "execution_count": 26,
=======
   "execution_count": 43,
>>>>>>> e35c6c21a5725e941f7f2464346d3ecc2f91b5c7
   "metadata": {},
   "outputs": [],
   "source": [
    "f3 = f3.loc[f3.fecha_reserva > '01-01-2021'].reset_index()"
   ]
  },
  {
   "cell_type": "code",
<<<<<<< HEAD
   "execution_count": 27,
=======
   "execution_count": 44,
>>>>>>> e35c6c21a5725e941f7f2464346d3ecc2f91b5c7
   "metadata": {},
   "outputs": [
    {
     "data": {
      "text/plain": [
       "array([2021, 2022], dtype=int64)"
      ]
     },
<<<<<<< HEAD
     "execution_count": 27,
=======
     "execution_count": 44,
>>>>>>> e35c6c21a5725e941f7f2464346d3ecc2f91b5c7
     "metadata": {},
     "output_type": "execute_result"
    }
   ],
   "source": [
    "f3.fecha_reserva.dt.year.unique()"
   ]
  },
  {
   "cell_type": "code",
<<<<<<< HEAD
   "execution_count": 28,
=======
   "execution_count": 45,
>>>>>>> e35c6c21a5725e941f7f2464346d3ecc2f91b5c7
   "metadata": {},
   "outputs": [
    {
     "data": {
      "text/plain": [
       "array(['confirmado', 'anulado', 'enviado', 'reservado'], dtype=object)"
      ]
     },
<<<<<<< HEAD
     "execution_count": 28,
=======
     "execution_count": 45,
>>>>>>> e35c6c21a5725e941f7f2464346d3ecc2f91b5c7
     "metadata": {},
     "output_type": "execute_result"
    }
   ],
   "source": [
    "f3['descripcion6'].unique()"
   ]
  },
  {
   "cell_type": "code",
<<<<<<< HEAD
   "execution_count": 29,
   "metadata": {},
   "outputs": [],
   "source": [
    "f3 = f3.loc[(f3['descripcion6']=='enviado') | (f3['descripcion6']=='reservado')].reset_index()"
=======
   "execution_count": 46,
   "metadata": {},
   "outputs": [],
   "source": [
    "f3 = f3.loc[(f3['descripcion6']=='enviado') | (f3['descripcion6']=='reservado') ]\n",
    "f3 = f3.loc[f3.tipo_producto == \"market place\"]"
>>>>>>> e35c6c21a5725e941f7f2464346d3ecc2f91b5c7
   ]
  },
  {
   "cell_type": "code",
<<<<<<< HEAD
   "execution_count": 30,
   "metadata": {},
   "outputs": [],
   "source": [
    "f3=f3.sort_values(\"fecha_reserva\")"
=======
   "execution_count": 47,
   "metadata": {},
   "outputs": [],
   "source": [
    "f3 = f3.sort_values(\"fecha_reserva\")"
>>>>>>> e35c6c21a5725e941f7f2464346d3ecc2f91b5c7
   ]
  },
  {
   "cell_type": "code",
<<<<<<< HEAD
   "execution_count": 31,
=======
   "execution_count": 48,
>>>>>>> e35c6c21a5725e941f7f2464346d3ecc2f91b5c7
   "metadata": {},
   "outputs": [],
   "source": [
    "f3['Mes']  = f3[\"fecha_reserva\"].dt.strftime('%b-%y')"
   ]
  },
  {
   "cell_type": "code",
<<<<<<< HEAD
   "execution_count": 32,
=======
   "execution_count": 49,
   "metadata": {},
   "outputs": [
    {
     "data": {
      "text/plain": [
       "26211   2021-05-03\n",
       "26945   2021-05-04\n",
       "27432   2021-05-07\n",
       "27478   2021-05-07\n",
       "27384   2021-05-07\n",
       "           ...    \n",
       "70883   2022-01-18\n",
       "70885   2022-01-18\n",
       "70887   2022-01-18\n",
       "70871   2022-01-18\n",
       "70938   2022-01-18\n",
       "Name: fecha_reserva, Length: 4538, dtype: datetime64[ns]"
      ]
     },
     "execution_count": 49,
     "metadata": {},
     "output_type": "execute_result"
    }
   ],
   "source": [
    "f3.fecha_reserva"
   ]
  },
  {
   "cell_type": "code",
   "execution_count": 50,
>>>>>>> e35c6c21a5725e941f7f2464346d3ecc2f91b5c7
   "metadata": {},
   "outputs": [],
   "source": [
    "from datetime import date, timedelta\n",
    "fecha_vencimiento = date.today() - timedelta(days=90)"
   ]
  },
  {
   "cell_type": "code",
<<<<<<< HEAD
   "execution_count": 33,
=======
   "execution_count": 51,
   "metadata": {},
   "outputs": [
    {
     "data": {
      "text/plain": [
       "datetime.date"
      ]
     },
     "execution_count": 51,
     "metadata": {},
     "output_type": "execute_result"
    }
   ],
   "source": [
    "type(fecha_vencimiento)"
   ]
  },
  {
   "cell_type": "code",
   "execution_count": 52,
>>>>>>> e35c6c21a5725e941f7f2464346d3ecc2f91b5c7
   "metadata": {},
   "outputs": [],
   "source": [
    "f3.loc[f3[\"fecha_reserva\"] < pd.to_datetime(fecha_vencimiento), 'val_dias'] = 'Mayor a 90 días'"
   ]
  },
  {
   "cell_type": "code",
<<<<<<< HEAD
   "execution_count": 34,
=======
   "execution_count": 53,
>>>>>>> e35c6c21a5725e941f7f2464346d3ecc2f91b5c7
   "metadata": {},
   "outputs": [],
   "source": [
    "f3.loc[f3[\"fecha_reserva\"] >= pd.to_datetime(fecha_vencimiento), 'val_dias'] = f3.loc[f3[\"fecha_reserva\"] >= pd.to_datetime(fecha_vencimiento), 'Mes'].values"
   ]
  },
  {
   "cell_type": "code",
<<<<<<< HEAD
   "execution_count": 35,
   "metadata": {},
   "outputs": [],
   "source": [
    "#ax= f3.loc[(f3.tipo_producto == \"market place\") & (f3.val_dias != \"Mayor a 90 días\")]\n",
    "ax=f3.groupby('Mes', sort=False)['cant*costoprmd'].sum().reset_index()\n",
    "ax=ax.reset_index()\n",
    "\n"
   ]
  },
  {
   "cell_type": "code",
   "execution_count": 36,
   "metadata": {},
   "outputs": [],
   "source": [
    "canti_mes=len(ax.Mes.tolist())"
   ]
  },
  {
   "cell_type": "code",
   "execution_count": 37,
=======
   "execution_count": 54,
>>>>>>> e35c6c21a5725e941f7f2464346d3ecc2f91b5c7
   "metadata": {},
   "outputs": [
    {
     "data": {
<<<<<<< HEAD
      "text/plain": [
       "['Menor a 90',\n",
       " 'Menor a 90',\n",
       " 'Menor a 90',\n",
       " 'Menor a 90',\n",
       " 'Menor a 90',\n",
       " 'Menor a 90',\n",
       " 'Mayor a 90',\n",
       " 'Mayor a 90',\n",
       " 'Mayor a 90']"
      ]
     },
     "execution_count": 37,
=======
      "text/html": [
       "<div>\n",
       "<style scoped>\n",
       "    .dataframe tbody tr th:only-of-type {\n",
       "        vertical-align: middle;\n",
       "    }\n",
       "\n",
       "    .dataframe tbody tr th {\n",
       "        vertical-align: top;\n",
       "    }\n",
       "\n",
       "    .dataframe thead th {\n",
       "        text-align: right;\n",
       "    }\n",
       "</style>\n",
       "<table border=\"1\" class=\"dataframe\">\n",
       "  <thead>\n",
       "    <tr style=\"text-align: right;\">\n",
       "      <th></th>\n",
       "      <th>index</th>\n",
       "      <th>nro_devolucion</th>\n",
       "      <th>fecha_reserva</th>\n",
       "      <th>fecha_envio</th>\n",
       "      <th>fecha_anulacion</th>\n",
       "      <th>fecha_confirmacion</th>\n",
       "      <th>nro_guia</th>\n",
       "      <th>tipo_producto</th>\n",
       "      <th>upc</th>\n",
       "      <th>sku</th>\n",
       "      <th>...</th>\n",
       "      <th>cant*costoprmd</th>\n",
       "      <th>diferencia</th>\n",
       "      <th>cant*precio</th>\n",
       "      <th>tipo_documento_para_dev</th>\n",
       "      <th>usuario_que_confirma</th>\n",
       "      <th>nc_proveedor</th>\n",
       "      <th>folio_f11</th>\n",
       "      <th>folio_f12</th>\n",
       "      <th>Mes</th>\n",
       "      <th>val_dias</th>\n",
       "    </tr>\n",
       "  </thead>\n",
       "  <tbody>\n",
       "    <tr>\n",
       "      <th>26211</th>\n",
       "      <td>225406</td>\n",
       "      <td>32883961</td>\n",
       "      <td>2021-05-03</td>\n",
       "      <td>NaN</td>\n",
       "      <td>NaN</td>\n",
       "      <td>NaN</td>\n",
       "      <td>NaN</td>\n",
       "      <td>market place</td>\n",
       "      <td>7703272364292</td>\n",
       "      <td>11367758</td>\n",
       "      <td>...</td>\n",
       "      <td>25200</td>\n",
       "      <td>0.0</td>\n",
       "      <td>25200</td>\n",
       "      <td>nota credito</td>\n",
       "      <td>NaN</td>\n",
       "      <td>NaN</td>\n",
       "      <td>NaN</td>\n",
       "      <td>1.263658e+10</td>\n",
       "      <td>May-21</td>\n",
       "      <td>Mayor a 90 días</td>\n",
       "    </tr>\n",
       "    <tr>\n",
       "      <th>26945</th>\n",
       "      <td>226140</td>\n",
       "      <td>32890624</td>\n",
       "      <td>2021-05-04</td>\n",
       "      <td>05-may-2021</td>\n",
       "      <td>NaN</td>\n",
       "      <td>NaN</td>\n",
       "      <td>225012.0</td>\n",
       "      <td>market place</td>\n",
       "      <td>2009290078001</td>\n",
       "      <td>9290078</td>\n",
       "      <td>...</td>\n",
       "      <td>114900</td>\n",
       "      <td>5000.0</td>\n",
       "      <td>109900</td>\n",
       "      <td>nota credito</td>\n",
       "      <td>NaN</td>\n",
       "      <td>NaN</td>\n",
       "      <td>NaN</td>\n",
       "      <td>1.264040e+10</td>\n",
       "      <td>May-21</td>\n",
       "      <td>Mayor a 90 días</td>\n",
       "    </tr>\n",
       "    <tr>\n",
       "      <th>27432</th>\n",
       "      <td>226627</td>\n",
       "      <td>32896602</td>\n",
       "      <td>2021-05-07</td>\n",
       "      <td>07-may-2021</td>\n",
       "      <td>NaN</td>\n",
       "      <td>NaN</td>\n",
       "      <td>225823.0</td>\n",
       "      <td>market place</td>\n",
       "      <td>2008391773006</td>\n",
       "      <td>8391773</td>\n",
       "      <td>...</td>\n",
       "      <td>799990</td>\n",
       "      <td>0.0</td>\n",
       "      <td>799990</td>\n",
       "      <td>nota credito</td>\n",
       "      <td>NaN</td>\n",
       "      <td>12604264979</td>\n",
       "      <td>NaN</td>\n",
       "      <td>NaN</td>\n",
       "      <td>May-21</td>\n",
       "      <td>Mayor a 90 días</td>\n",
       "    </tr>\n",
       "    <tr>\n",
       "      <th>27478</th>\n",
       "      <td>226673</td>\n",
       "      <td>32897203</td>\n",
       "      <td>2021-05-07</td>\n",
       "      <td>07-may-2021</td>\n",
       "      <td>NaN</td>\n",
       "      <td>NaN</td>\n",
       "      <td>225838.0</td>\n",
       "      <td>market place</td>\n",
       "      <td>2004637156008</td>\n",
       "      <td>4637156</td>\n",
       "      <td>...</td>\n",
       "      <td>1247900</td>\n",
       "      <td>0.0</td>\n",
       "      <td>999900</td>\n",
       "      <td>nota credito</td>\n",
       "      <td>NaN</td>\n",
       "      <td>12591417570</td>\n",
       "      <td>NaN</td>\n",
       "      <td>NaN</td>\n",
       "      <td>May-21</td>\n",
       "      <td>Mayor a 90 días</td>\n",
       "    </tr>\n",
       "    <tr>\n",
       "      <th>27384</th>\n",
       "      <td>226579</td>\n",
       "      <td>32895728</td>\n",
       "      <td>2021-05-07</td>\n",
       "      <td>11-oct-2021</td>\n",
       "      <td>NaN</td>\n",
       "      <td>NaN</td>\n",
       "      <td>246500.0</td>\n",
       "      <td>market place</td>\n",
       "      <td>2005864128004</td>\n",
       "      <td>5864128</td>\n",
       "      <td>...</td>\n",
       "      <td>2019900</td>\n",
       "      <td>0.0</td>\n",
       "      <td>2019900</td>\n",
       "      <td>nota credito</td>\n",
       "      <td>NaN</td>\n",
       "      <td>12590740945</td>\n",
       "      <td>NaN</td>\n",
       "      <td>NaN</td>\n",
       "      <td>May-21</td>\n",
       "      <td>Mayor a 90 días</td>\n",
       "    </tr>\n",
       "    <tr>\n",
       "      <th>...</th>\n",
       "      <td>...</td>\n",
       "      <td>...</td>\n",
       "      <td>...</td>\n",
       "      <td>...</td>\n",
       "      <td>...</td>\n",
       "      <td>...</td>\n",
       "      <td>...</td>\n",
       "      <td>...</td>\n",
       "      <td>...</td>\n",
       "      <td>...</td>\n",
       "      <td>...</td>\n",
       "      <td>...</td>\n",
       "      <td>...</td>\n",
       "      <td>...</td>\n",
       "      <td>...</td>\n",
       "      <td>...</td>\n",
       "      <td>...</td>\n",
       "      <td>...</td>\n",
       "      <td>...</td>\n",
       "      <td>...</td>\n",
       "      <td>...</td>\n",
       "    </tr>\n",
       "    <tr>\n",
       "      <th>70883</th>\n",
       "      <td>270078</td>\n",
       "      <td>33293165</td>\n",
       "      <td>2022-01-18</td>\n",
       "      <td>18-ene-2022</td>\n",
       "      <td>NaN</td>\n",
       "      <td>NaN</td>\n",
       "      <td>260058.0</td>\n",
       "      <td>market place</td>\n",
       "      <td>2019900767003</td>\n",
       "      <td>19900767</td>\n",
       "      <td>...</td>\n",
       "      <td>29990</td>\n",
       "      <td>0.0</td>\n",
       "      <td>29990</td>\n",
       "      <td>nota credito</td>\n",
       "      <td>NaN</td>\n",
       "      <td>NaN</td>\n",
       "      <td>NaN</td>\n",
       "      <td>1.267732e+10</td>\n",
       "      <td>Jan-22</td>\n",
       "      <td>Jan-22</td>\n",
       "    </tr>\n",
       "    <tr>\n",
       "      <th>70885</th>\n",
       "      <td>270080</td>\n",
       "      <td>33293189</td>\n",
       "      <td>2022-01-18</td>\n",
       "      <td>18-ene-2022</td>\n",
       "      <td>NaN</td>\n",
       "      <td>NaN</td>\n",
       "      <td>260060.0</td>\n",
       "      <td>market place</td>\n",
       "      <td>2020068729000</td>\n",
       "      <td>20068729</td>\n",
       "      <td>...</td>\n",
       "      <td>87800</td>\n",
       "      <td>0.0</td>\n",
       "      <td>87800</td>\n",
       "      <td>nota credito</td>\n",
       "      <td>NaN</td>\n",
       "      <td>NaN</td>\n",
       "      <td>NaN</td>\n",
       "      <td>1.267732e+10</td>\n",
       "      <td>Jan-22</td>\n",
       "      <td>Jan-22</td>\n",
       "    </tr>\n",
       "    <tr>\n",
       "      <th>70887</th>\n",
       "      <td>270082</td>\n",
       "      <td>33293202</td>\n",
       "      <td>2022-01-18</td>\n",
       "      <td>18-ene-2022</td>\n",
       "      <td>NaN</td>\n",
       "      <td>NaN</td>\n",
       "      <td>260059.0</td>\n",
       "      <td>market place</td>\n",
       "      <td>2003943514007</td>\n",
       "      <td>3943514</td>\n",
       "      <td>...</td>\n",
       "      <td>99900</td>\n",
       "      <td>0.0</td>\n",
       "      <td>99900</td>\n",
       "      <td>nota credito</td>\n",
       "      <td>NaN</td>\n",
       "      <td>NaN</td>\n",
       "      <td>NaN</td>\n",
       "      <td>1.267610e+10</td>\n",
       "      <td>Jan-22</td>\n",
       "      <td>Jan-22</td>\n",
       "    </tr>\n",
       "    <tr>\n",
       "      <th>70871</th>\n",
       "      <td>270066</td>\n",
       "      <td>33293035</td>\n",
       "      <td>2022-01-18</td>\n",
       "      <td>NaN</td>\n",
       "      <td>NaN</td>\n",
       "      <td>NaN</td>\n",
       "      <td>NaN</td>\n",
       "      <td>market place</td>\n",
       "      <td>2020620901004</td>\n",
       "      <td>20620901</td>\n",
       "      <td>...</td>\n",
       "      <td>159000</td>\n",
       "      <td>0.0</td>\n",
       "      <td>159000</td>\n",
       "      <td>nota credito</td>\n",
       "      <td>NaN</td>\n",
       "      <td>NaN</td>\n",
       "      <td>NaN</td>\n",
       "      <td>1.267642e+10</td>\n",
       "      <td>Jan-22</td>\n",
       "      <td>Jan-22</td>\n",
       "    </tr>\n",
       "    <tr>\n",
       "      <th>70938</th>\n",
       "      <td>270133</td>\n",
       "      <td>33293691</td>\n",
       "      <td>2022-01-18</td>\n",
       "      <td>18-ene-2022</td>\n",
       "      <td>NaN</td>\n",
       "      <td>NaN</td>\n",
       "      <td>260089.0</td>\n",
       "      <td>market place</td>\n",
       "      <td>2005585683004</td>\n",
       "      <td>5585683</td>\n",
       "      <td>...</td>\n",
       "      <td>35900</td>\n",
       "      <td>0.0</td>\n",
       "      <td>38000</td>\n",
       "      <td>nota credito</td>\n",
       "      <td>NaN</td>\n",
       "      <td>NaN</td>\n",
       "      <td>NaN</td>\n",
       "      <td>1.265230e+10</td>\n",
       "      <td>Jan-22</td>\n",
       "      <td>Jan-22</td>\n",
       "    </tr>\n",
       "  </tbody>\n",
       "</table>\n",
       "<p>4538 rows × 38 columns</p>\n",
       "</div>"
      ],
      "text/plain": [
       "        index  nro_devolucion fecha_reserva  fecha_envio fecha_anulacion  \\\n",
       "26211  225406        32883961    2021-05-03          NaN             NaN   \n",
       "26945  226140        32890624    2021-05-04  05-may-2021             NaN   \n",
       "27432  226627        32896602    2021-05-07  07-may-2021             NaN   \n",
       "27478  226673        32897203    2021-05-07  07-may-2021             NaN   \n",
       "27384  226579        32895728    2021-05-07  11-oct-2021             NaN   \n",
       "...       ...             ...           ...          ...             ...   \n",
       "70883  270078        33293165    2022-01-18  18-ene-2022             NaN   \n",
       "70885  270080        33293189    2022-01-18  18-ene-2022             NaN   \n",
       "70887  270082        33293202    2022-01-18  18-ene-2022             NaN   \n",
       "70871  270066        33293035    2022-01-18          NaN             NaN   \n",
       "70938  270133        33293691    2022-01-18  18-ene-2022             NaN   \n",
       "\n",
       "      fecha_confirmacion  nro_guia tipo_producto            upc       sku  \\\n",
       "26211                NaN       NaN  market place  7703272364292  11367758   \n",
       "26945                NaN  225012.0  market place  2009290078001   9290078   \n",
       "27432                NaN  225823.0  market place  2008391773006   8391773   \n",
       "27478                NaN  225838.0  market place  2004637156008   4637156   \n",
       "27384                NaN  246500.0  market place  2005864128004   5864128   \n",
       "...                  ...       ...           ...            ...       ...   \n",
       "70883                NaN  260058.0  market place  2019900767003  19900767   \n",
       "70885                NaN  260060.0  market place  2020068729000  20068729   \n",
       "70887                NaN  260059.0  market place  2003943514007   3943514   \n",
       "70871                NaN       NaN  market place  2020620901004  20620901   \n",
       "70938                NaN  260089.0  market place  2005585683004   5585683   \n",
       "\n",
       "       ... cant*costoprmd diferencia cant*precio tipo_documento_para_dev  \\\n",
       "26211  ...          25200        0.0       25200            nota credito   \n",
       "26945  ...         114900     5000.0      109900            nota credito   \n",
       "27432  ...         799990        0.0      799990            nota credito   \n",
       "27478  ...        1247900        0.0      999900            nota credito   \n",
       "27384  ...        2019900        0.0     2019900            nota credito   \n",
       "...    ...            ...        ...         ...                     ...   \n",
       "70883  ...          29990        0.0       29990            nota credito   \n",
       "70885  ...          87800        0.0       87800            nota credito   \n",
       "70887  ...          99900        0.0       99900            nota credito   \n",
       "70871  ...         159000        0.0      159000            nota credito   \n",
       "70938  ...          35900        0.0       38000            nota credito   \n",
       "\n",
       "      usuario_que_confirma nc_proveedor folio_f11     folio_f12     Mes  \\\n",
       "26211                  NaN          NaN       NaN  1.263658e+10  May-21   \n",
       "26945                  NaN          NaN       NaN  1.264040e+10  May-21   \n",
       "27432                  NaN  12604264979       NaN           NaN  May-21   \n",
       "27478                  NaN  12591417570       NaN           NaN  May-21   \n",
       "27384                  NaN  12590740945       NaN           NaN  May-21   \n",
       "...                    ...          ...       ...           ...     ...   \n",
       "70883                  NaN          NaN       NaN  1.267732e+10  Jan-22   \n",
       "70885                  NaN          NaN       NaN  1.267732e+10  Jan-22   \n",
       "70887                  NaN          NaN       NaN  1.267610e+10  Jan-22   \n",
       "70871                  NaN          NaN       NaN  1.267642e+10  Jan-22   \n",
       "70938                  NaN          NaN       NaN  1.265230e+10  Jan-22   \n",
       "\n",
       "              val_dias  \n",
       "26211  Mayor a 90 días  \n",
       "26945  Mayor a 90 días  \n",
       "27432  Mayor a 90 días  \n",
       "27478  Mayor a 90 días  \n",
       "27384  Mayor a 90 días  \n",
       "...                ...  \n",
       "70883           Jan-22  \n",
       "70885           Jan-22  \n",
       "70887           Jan-22  \n",
       "70871           Jan-22  \n",
       "70938           Jan-22  \n",
       "\n",
       "[4538 rows x 38 columns]"
      ]
     },
     "execution_count": 54,
>>>>>>> e35c6c21a5725e941f7f2464346d3ecc2f91b5c7
     "metadata": {},
     "output_type": "execute_result"
    }
   ],
   "source": [
<<<<<<< HEAD
    "canti_mes=ax.Mes.tolist()\n",
    "\n",
    "colores =[]\n",
    "\n",
    "for i in enumerate(canti_mes):\n",
    "    if i [0] < len(canti_mes)-3: \n",
    "        colores.append(\"Menor a 90\")\n",
    "    else:\n",
    "        colores.append(\"Mayor a 90\")\n",
    "colores       \n",
    "\n"
=======
    "f3"
>>>>>>> e35c6c21a5725e941f7f2464346d3ecc2f91b5c7
   ]
  },
  {
   "cell_type": "code",
<<<<<<< HEAD
   "execution_count": 38,
=======
   "execution_count": 103,
   "metadata": {},
   "outputs": [],
   "source": [
    "x_90_dias = f3.groupby(['Mes', \"val_dias\"], sort=False)['cant*costoprmd'].sum().reset_index()\n",
    "x_90_dias[\"color\"] = x_90_dias[\"val_dias\"]\n",
    "x_90_dias.loc[x_90_dias[\"val_dias\"] != \"Mayor a 90 días\" , \"color\" ] = \"Menor a 90 días\"\n",
    "x_90_dias[\"cant*costoprmd\"]=round((x_90_dias[\"cant*costoprmd\"]/1e6),2)\n"
   ]
  },
  {
   "cell_type": "code",
   "execution_count": 105,
>>>>>>> e35c6c21a5725e941f7f2464346d3ecc2f91b5c7
   "metadata": {},
   "outputs": [
    {
     "data": {
      "application/vnd.plotly.v1+json": {
       "config": {
        "plotlyServerURL": "https://plot.ly"
       },
       "data": [
        {
         "alignmentgroup": "True",
<<<<<<< HEAD
         "hovertemplate": "color=Menor a 90<br>Mes=%{x}<br>cant*costoprmd=%{y}<extra></extra>",
         "legendgroup": "Menor a 90",
         "marker": {
          "color": "#636efa",
=======
         "hovertemplate": "color=Mayor a 90 días<br>Mes=%{x}<br>cant*costoprmd=%{text}<extra></extra>",
         "legendgroup": "Mayor a 90 días",
         "marker": {
          "color": "#BF0A00",
>>>>>>> e35c6c21a5725e941f7f2464346d3ecc2f91b5c7
          "pattern": {
           "shape": ""
          }
         },
<<<<<<< HEAD
         "name": "Menor a 90",
         "offsetgroup": "Menor a 90",
         "orientation": "v",
         "showlegend": true,
=======
         "name": "Mayor a 90 días",
         "offsetgroup": "Mayor a 90 días",
         "orientation": "v",
         "showlegend": true,
         "text": [
          70.51,
          2.55,
          35.67,
          22.82,
          15.12,
          311.26
         ],
>>>>>>> e35c6c21a5725e941f7f2464346d3ecc2f91b5c7
         "textposition": "auto",
         "type": "bar",
         "x": [
          "May-21",
          "Jun-21",
          "Jul-21",
          "Aug-21",
          "Sep-21",
          "Oct-21"
         ],
         "xaxis": "x",
         "y": [
<<<<<<< HEAD
          70507534,
          2553200,
          35671400,
          22819540,
          15116288,
          322097464
=======
          70.51,
          2.55,
          35.67,
          22.82,
          15.12,
          311.26
>>>>>>> e35c6c21a5725e941f7f2464346d3ecc2f91b5c7
         ],
         "yaxis": "y"
        },
        {
         "alignmentgroup": "True",
<<<<<<< HEAD
         "hovertemplate": "color=Mayor a 90<br>Mes=%{x}<br>cant*costoprmd=%{y}<extra></extra>",
         "legendgroup": "Mayor a 90",
         "marker": {
          "color": "#EF553B",
=======
         "hovertemplate": "color=Menor a 90 días<br>Mes=%{x}<br>cant*costoprmd=%{text}<extra></extra>",
         "legendgroup": "Menor a 90 días",
         "marker": {
          "color": "#236A2C",
>>>>>>> e35c6c21a5725e941f7f2464346d3ecc2f91b5c7
          "pattern": {
           "shape": ""
          }
         },
<<<<<<< HEAD
         "name": "Mayor a 90",
         "offsetgroup": "Mayor a 90",
         "orientation": "v",
         "showlegend": true,
         "textposition": "auto",
         "type": "bar",
         "x": [
=======
         "name": "Menor a 90 días",
         "offsetgroup": "Menor a 90 días",
         "orientation": "v",
         "showlegend": true,
         "text": [
          10.25,
          246.16,
          519.95,
          417.87
         ],
         "textposition": "auto",
         "type": "bar",
         "x": [
          "Oct-21",
>>>>>>> e35c6c21a5725e941f7f2464346d3ecc2f91b5c7
          "Nov-21",
          "Dec-21",
          "Jan-22"
         ],
         "xaxis": "x",
         "y": [
<<<<<<< HEAD
          246156456,
          679035632,
          904931118
=======
          10.25,
          246.16,
          519.95,
          417.87
>>>>>>> e35c6c21a5725e941f7f2464346d3ecc2f91b5c7
         ],
         "yaxis": "y"
        }
       ],
       "layout": {
        "barmode": "relative",
        "legend": {
         "title": {
          "text": "color"
         },
         "tracegroupgap": 0
        },
<<<<<<< HEAD
=======
        "margin": {
         "t": 60
        },
>>>>>>> e35c6c21a5725e941f7f2464346d3ecc2f91b5c7
        "template": {
         "data": {
          "bar": [
           {
            "error_x": {
             "color": "#2a3f5f"
            },
            "error_y": {
             "color": "#2a3f5f"
            },
            "marker": {
             "line": {
              "color": "#E5ECF6",
              "width": 0.5
             },
             "pattern": {
              "fillmode": "overlay",
              "size": 10,
              "solidity": 0.2
             }
            },
            "type": "bar"
           }
          ],
          "barpolar": [
           {
            "marker": {
             "line": {
              "color": "#E5ECF6",
              "width": 0.5
             },
             "pattern": {
              "fillmode": "overlay",
              "size": 10,
              "solidity": 0.2
             }
            },
            "type": "barpolar"
           }
          ],
          "carpet": [
           {
            "aaxis": {
             "endlinecolor": "#2a3f5f",
             "gridcolor": "white",
             "linecolor": "white",
             "minorgridcolor": "white",
             "startlinecolor": "#2a3f5f"
            },
            "baxis": {
             "endlinecolor": "#2a3f5f",
             "gridcolor": "white",
             "linecolor": "white",
             "minorgridcolor": "white",
             "startlinecolor": "#2a3f5f"
            },
            "type": "carpet"
           }
          ],
          "choropleth": [
           {
            "colorbar": {
             "outlinewidth": 0,
             "ticks": ""
            },
            "type": "choropleth"
           }
          ],
          "contour": [
           {
            "colorbar": {
             "outlinewidth": 0,
             "ticks": ""
            },
            "colorscale": [
             [
              0,
              "#0d0887"
             ],
             [
              0.1111111111111111,
              "#46039f"
             ],
             [
              0.2222222222222222,
              "#7201a8"
             ],
             [
              0.3333333333333333,
              "#9c179e"
             ],
             [
              0.4444444444444444,
              "#bd3786"
             ],
             [
              0.5555555555555556,
              "#d8576b"
             ],
             [
              0.6666666666666666,
              "#ed7953"
             ],
             [
              0.7777777777777778,
              "#fb9f3a"
             ],
             [
              0.8888888888888888,
              "#fdca26"
             ],
             [
              1,
              "#f0f921"
             ]
            ],
            "type": "contour"
           }
          ],
          "contourcarpet": [
           {
            "colorbar": {
             "outlinewidth": 0,
             "ticks": ""
            },
            "type": "contourcarpet"
           }
          ],
          "heatmap": [
           {
            "colorbar": {
             "outlinewidth": 0,
             "ticks": ""
            },
            "colorscale": [
             [
              0,
              "#0d0887"
             ],
             [
              0.1111111111111111,
              "#46039f"
             ],
             [
              0.2222222222222222,
              "#7201a8"
             ],
             [
              0.3333333333333333,
              "#9c179e"
             ],
             [
              0.4444444444444444,
              "#bd3786"
             ],
             [
              0.5555555555555556,
              "#d8576b"
             ],
             [
              0.6666666666666666,
              "#ed7953"
             ],
             [
              0.7777777777777778,
              "#fb9f3a"
             ],
             [
              0.8888888888888888,
              "#fdca26"
             ],
             [
              1,
              "#f0f921"
             ]
            ],
            "type": "heatmap"
           }
          ],
          "heatmapgl": [
           {
            "colorbar": {
             "outlinewidth": 0,
             "ticks": ""
            },
            "colorscale": [
             [
              0,
              "#0d0887"
             ],
             [
              0.1111111111111111,
              "#46039f"
             ],
             [
              0.2222222222222222,
              "#7201a8"
             ],
             [
              0.3333333333333333,
              "#9c179e"
             ],
             [
              0.4444444444444444,
              "#bd3786"
             ],
             [
              0.5555555555555556,
              "#d8576b"
             ],
             [
              0.6666666666666666,
              "#ed7953"
             ],
             [
              0.7777777777777778,
              "#fb9f3a"
             ],
             [
              0.8888888888888888,
              "#fdca26"
             ],
             [
              1,
              "#f0f921"
             ]
            ],
            "type": "heatmapgl"
           }
          ],
          "histogram": [
           {
            "marker": {
             "pattern": {
              "fillmode": "overlay",
              "size": 10,
              "solidity": 0.2
             }
            },
            "type": "histogram"
           }
          ],
          "histogram2d": [
           {
            "colorbar": {
             "outlinewidth": 0,
             "ticks": ""
            },
            "colorscale": [
             [
              0,
              "#0d0887"
             ],
             [
              0.1111111111111111,
              "#46039f"
             ],
             [
              0.2222222222222222,
              "#7201a8"
             ],
             [
              0.3333333333333333,
              "#9c179e"
             ],
             [
              0.4444444444444444,
              "#bd3786"
             ],
             [
              0.5555555555555556,
              "#d8576b"
             ],
             [
              0.6666666666666666,
              "#ed7953"
             ],
             [
              0.7777777777777778,
              "#fb9f3a"
             ],
             [
              0.8888888888888888,
              "#fdca26"
             ],
             [
              1,
              "#f0f921"
             ]
            ],
            "type": "histogram2d"
           }
          ],
          "histogram2dcontour": [
           {
            "colorbar": {
             "outlinewidth": 0,
             "ticks": ""
            },
            "colorscale": [
             [
              0,
              "#0d0887"
             ],
             [
              0.1111111111111111,
              "#46039f"
             ],
             [
              0.2222222222222222,
              "#7201a8"
             ],
             [
              0.3333333333333333,
              "#9c179e"
             ],
             [
              0.4444444444444444,
              "#bd3786"
             ],
             [
              0.5555555555555556,
              "#d8576b"
             ],
             [
              0.6666666666666666,
              "#ed7953"
             ],
             [
              0.7777777777777778,
              "#fb9f3a"
             ],
             [
              0.8888888888888888,
              "#fdca26"
             ],
             [
              1,
              "#f0f921"
             ]
            ],
            "type": "histogram2dcontour"
           }
          ],
          "mesh3d": [
           {
            "colorbar": {
             "outlinewidth": 0,
             "ticks": ""
            },
            "type": "mesh3d"
           }
          ],
          "parcoords": [
           {
            "line": {
             "colorbar": {
              "outlinewidth": 0,
              "ticks": ""
             }
            },
            "type": "parcoords"
           }
          ],
          "pie": [
           {
            "automargin": true,
            "type": "pie"
           }
          ],
          "scatter": [
           {
            "marker": {
             "colorbar": {
              "outlinewidth": 0,
              "ticks": ""
             }
            },
            "type": "scatter"
           }
          ],
          "scatter3d": [
           {
            "line": {
             "colorbar": {
              "outlinewidth": 0,
              "ticks": ""
             }
            },
            "marker": {
             "colorbar": {
              "outlinewidth": 0,
              "ticks": ""
             }
            },
            "type": "scatter3d"
           }
          ],
          "scattercarpet": [
           {
            "marker": {
             "colorbar": {
              "outlinewidth": 0,
              "ticks": ""
             }
            },
            "type": "scattercarpet"
           }
          ],
          "scattergeo": [
           {
            "marker": {
             "colorbar": {
              "outlinewidth": 0,
              "ticks": ""
             }
            },
            "type": "scattergeo"
           }
          ],
          "scattergl": [
           {
            "marker": {
             "colorbar": {
              "outlinewidth": 0,
              "ticks": ""
             }
            },
            "type": "scattergl"
           }
          ],
          "scattermapbox": [
           {
            "marker": {
             "colorbar": {
              "outlinewidth": 0,
              "ticks": ""
             }
            },
            "type": "scattermapbox"
           }
          ],
          "scatterpolar": [
           {
            "marker": {
             "colorbar": {
              "outlinewidth": 0,
              "ticks": ""
             }
            },
            "type": "scatterpolar"
           }
          ],
          "scatterpolargl": [
           {
            "marker": {
             "colorbar": {
              "outlinewidth": 0,
              "ticks": ""
             }
            },
            "type": "scatterpolargl"
           }
          ],
          "scatterternary": [
           {
            "marker": {
             "colorbar": {
              "outlinewidth": 0,
              "ticks": ""
             }
            },
            "type": "scatterternary"
           }
          ],
          "surface": [
           {
            "colorbar": {
             "outlinewidth": 0,
             "ticks": ""
            },
            "colorscale": [
             [
              0,
              "#0d0887"
             ],
             [
              0.1111111111111111,
              "#46039f"
             ],
             [
              0.2222222222222222,
              "#7201a8"
             ],
             [
              0.3333333333333333,
              "#9c179e"
             ],
             [
              0.4444444444444444,
              "#bd3786"
             ],
             [
              0.5555555555555556,
              "#d8576b"
             ],
             [
              0.6666666666666666,
              "#ed7953"
             ],
             [
              0.7777777777777778,
              "#fb9f3a"
             ],
             [
              0.8888888888888888,
              "#fdca26"
             ],
             [
              1,
              "#f0f921"
             ]
            ],
            "type": "surface"
           }
          ],
          "table": [
           {
            "cells": {
             "fill": {
              "color": "#EBF0F8"
             },
             "line": {
              "color": "white"
             }
            },
            "header": {
             "fill": {
              "color": "#C8D4E3"
             },
             "line": {
              "color": "white"
             }
            },
            "type": "table"
           }
          ]
         },
         "layout": {
          "annotationdefaults": {
           "arrowcolor": "#2a3f5f",
           "arrowhead": 0,
           "arrowwidth": 1
          },
          "autotypenumbers": "strict",
          "coloraxis": {
           "colorbar": {
            "outlinewidth": 0,
            "ticks": ""
           }
          },
          "colorscale": {
           "diverging": [
            [
             0,
             "#8e0152"
            ],
            [
             0.1,
             "#c51b7d"
            ],
            [
             0.2,
             "#de77ae"
            ],
            [
             0.3,
             "#f1b6da"
            ],
            [
             0.4,
             "#fde0ef"
            ],
            [
             0.5,
             "#f7f7f7"
            ],
            [
             0.6,
             "#e6f5d0"
            ],
            [
             0.7,
             "#b8e186"
            ],
            [
             0.8,
             "#7fbc41"
            ],
            [
             0.9,
             "#4d9221"
            ],
            [
             1,
             "#276419"
            ]
           ],
           "sequential": [
            [
             0,
             "#0d0887"
            ],
            [
             0.1111111111111111,
             "#46039f"
            ],
            [
             0.2222222222222222,
             "#7201a8"
            ],
            [
             0.3333333333333333,
             "#9c179e"
            ],
            [
             0.4444444444444444,
             "#bd3786"
            ],
            [
             0.5555555555555556,
             "#d8576b"
            ],
            [
             0.6666666666666666,
             "#ed7953"
            ],
            [
             0.7777777777777778,
             "#fb9f3a"
            ],
            [
             0.8888888888888888,
             "#fdca26"
            ],
            [
             1,
             "#f0f921"
            ]
           ],
           "sequentialminus": [
            [
             0,
             "#0d0887"
            ],
            [
             0.1111111111111111,
             "#46039f"
            ],
            [
             0.2222222222222222,
             "#7201a8"
            ],
            [
             0.3333333333333333,
             "#9c179e"
            ],
            [
             0.4444444444444444,
             "#bd3786"
            ],
            [
             0.5555555555555556,
             "#d8576b"
            ],
            [
             0.6666666666666666,
             "#ed7953"
            ],
            [
             0.7777777777777778,
             "#fb9f3a"
            ],
            [
             0.8888888888888888,
             "#fdca26"
            ],
            [
             1,
             "#f0f921"
            ]
           ]
          },
          "colorway": [
           "#636efa",
           "#EF553B",
           "#00cc96",
           "#ab63fa",
           "#FFA15A",
           "#19d3f3",
           "#FF6692",
           "#B6E880",
           "#FF97FF",
           "#FECB52"
          ],
          "font": {
           "color": "#2a3f5f"
          },
          "geo": {
           "bgcolor": "white",
           "lakecolor": "white",
           "landcolor": "#E5ECF6",
           "showlakes": true,
           "showland": true,
           "subunitcolor": "white"
          },
          "hoverlabel": {
           "align": "left"
          },
          "hovermode": "closest",
          "mapbox": {
           "style": "light"
          },
          "paper_bgcolor": "white",
          "plot_bgcolor": "#E5ECF6",
          "polar": {
           "angularaxis": {
            "gridcolor": "white",
            "linecolor": "white",
            "ticks": ""
           },
           "bgcolor": "#E5ECF6",
           "radialaxis": {
            "gridcolor": "white",
            "linecolor": "white",
            "ticks": ""
           }
          },
          "scene": {
           "xaxis": {
            "backgroundcolor": "#E5ECF6",
            "gridcolor": "white",
            "gridwidth": 2,
            "linecolor": "white",
            "showbackground": true,
            "ticks": "",
            "zerolinecolor": "white"
           },
           "yaxis": {
            "backgroundcolor": "#E5ECF6",
            "gridcolor": "white",
            "gridwidth": 2,
            "linecolor": "white",
            "showbackground": true,
            "ticks": "",
            "zerolinecolor": "white"
           },
           "zaxis": {
            "backgroundcolor": "#E5ECF6",
            "gridcolor": "white",
            "gridwidth": 2,
            "linecolor": "white",
            "showbackground": true,
            "ticks": "",
            "zerolinecolor": "white"
           }
          },
          "shapedefaults": {
           "line": {
            "color": "#2a3f5f"
           }
          },
          "ternary": {
           "aaxis": {
            "gridcolor": "white",
            "linecolor": "white",
            "ticks": ""
           },
           "baxis": {
            "gridcolor": "white",
            "linecolor": "white",
            "ticks": ""
           },
           "bgcolor": "#E5ECF6",
           "caxis": {
            "gridcolor": "white",
            "linecolor": "white",
            "ticks": ""
           }
          },
          "title": {
           "x": 0.05
          },
          "xaxis": {
           "automargin": true,
           "gridcolor": "white",
           "linecolor": "white",
           "ticks": "",
           "title": {
            "standoff": 15
           },
           "zerolinecolor": "white",
           "zerolinewidth": 2
          },
          "yaxis": {
           "automargin": true,
           "gridcolor": "white",
           "linecolor": "white",
           "ticks": "",
           "title": {
            "standoff": 15
           },
           "zerolinecolor": "white",
           "zerolinewidth": 2
          }
         }
        },
<<<<<<< HEAD
        "title": {
         "text": "F3 Abiertos"
        },
=======
>>>>>>> e35c6c21a5725e941f7f2464346d3ecc2f91b5c7
        "xaxis": {
         "anchor": "y",
         "domain": [
          0,
          1
         ],
         "title": {
          "text": "Mes"
         }
        },
        "yaxis": {
         "anchor": "x",
         "domain": [
          0,
          1
         ],
         "title": {
          "text": "cant*costoprmd"
         }
        }
       }
      }
     },
     "metadata": {},
     "output_type": "display_data"
    }
   ],
   "source": [
    "import plotly.express as px\n",
<<<<<<< HEAD
    "import plotly.graph_objs as go \n",
    "\n",
    "grafica=px.bar(ax, x=\"Mes\", y=\"cant*costoprmd\", color = (colores), title= \"F3 Abiertos\" )\n",
    "\n",
    "grafica.show()\n",
    "\n",
    "\n"
=======
    "fig = px.bar(x_90_dias, x=\"Mes\", y=\"cant*costoprmd\",text=\"cant*costoprmd\", color=\"color\",color_discrete_sequence=[\"#BF0A00\", \"#236A2C\"],)\n",
    "fig.show()\n",
    "fig.write_image(\"fig.svg\")"
>>>>>>> e35c6c21a5725e941f7f2464346d3ecc2f91b5c7
   ]
  },
  {
   "cell_type": "code",
<<<<<<< HEAD
   "execution_count": 39,
=======
   "execution_count": null,
   "metadata": {},
   "outputs": [],
   "source": [
    "tienda = ['101', '108', '93', '6', '183', '25', '38', '53', '13', '43', '82',\n",
    "         '138', '72', '35', '60', '123', '98', '36', '19', '18', '50', '45',\n",
    "         '85', '56', '96','322', '131', '139', '141', '143', '5', '142', '37','3009']\n",
    "cd = ['3000', '9903', '2000', '2001', '2002', '9970', '9901', '3002', '9905', '9961']\n",
    "sac = ['3001','99']\n",
    "nan = ['11','9910','3004','3006','9902', '9921','9951']"
   ]
  },
  {
   "cell_type": "markdown",
   "metadata": {},
   "source": []
  },
  {
   "cell_type": "code",
   "execution_count": null,
   "metadata": {},
   "outputs": [],
   "source": [
    "f3.loc[f3.local.isin(tienda), 'grupo'] = 'TIENDA'\n",
    "f3.loc[f3.local.isin(cd), 'grupo'] = 'CD'\n",
    "f3.loc[f3.local.isin(sac), 'grupo'] = 'SAC'\n",
    "f3.loc[f3.local.isin(nan), 'grupo'] = 'NAN'"
   ]
  },
  {
   "cell_type": "code",
   "execution_count": null,
>>>>>>> e35c6c21a5725e941f7f2464346d3ecc2f91b5c7
   "metadata": {},
   "outputs": [
    {
     "data": {
<<<<<<< HEAD
      "image/png": "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",
      "text/plain": [
       "<Figure size 432x288 with 1 Axes>"
      ]
     },
     "metadata": {
      "needs_background": "light"
     },
     "output_type": "display_data"
    }
   ],
   "source": [
    "import matplotlib.pyplot as plt\n",
    "x = ax[\"Mes\"]\n",
    "y = ax[\"cant*costoprmd\"]\n",
    "\n",
    "plt.bar(x, y)\n",
    "\n",
    "plt.title(\"F3 Abiertos -Marketplace\", \n",
    "          fontdict={'family': 'serif', \n",
    "                    'color' : 'darkblue',\n",
    "                    'weight': 'bold',\n",
    "                    'size': 18})\n",
    "plt.show()"
=======
      "text/html": [
       "<div>\n",
       "<style scoped>\n",
       "    .dataframe tbody tr th:only-of-type {\n",
       "        vertical-align: middle;\n",
       "    }\n",
       "\n",
       "    .dataframe tbody tr th {\n",
       "        vertical-align: top;\n",
       "    }\n",
       "\n",
       "    .dataframe thead th {\n",
       "        text-align: right;\n",
       "    }\n",
       "</style>\n",
       "<table border=\"1\" class=\"dataframe\">\n",
       "  <thead>\n",
       "    <tr style=\"text-align: right;\">\n",
       "      <th></th>\n",
       "      <th></th>\n",
       "      <th>cant*costoprmd</th>\n",
       "    </tr>\n",
       "    <tr>\n",
       "      <th>val_dias</th>\n",
       "      <th>grupo</th>\n",
       "      <th></th>\n",
       "    </tr>\n",
       "  </thead>\n",
       "  <tbody>\n",
       "  </tbody>\n",
       "</table>\n",
       "</div>"
      ],
      "text/plain": [
       "Empty DataFrame\n",
       "Columns: [cant*costoprmd]\n",
       "Index: []"
      ]
     },
     "execution_count": 240,
     "metadata": {},
     "output_type": "execute_result"
    }
   ],
   "source": [
    "f3.groupby([\"val_dias\",\"grupo\"]).agg({\"cant*costoprmd\":\"sum\"})"
>>>>>>> e35c6c21a5725e941f7f2464346d3ecc2f91b5c7
   ]
  },
  {
   "cell_type": "code",
<<<<<<< HEAD
   "execution_count": 40,
   "metadata": {},
   "outputs": [],
   "source": [
    "#f3.groupby(['tipo_producto','val_dias'])['cant*costoprmd'].sum()"
=======
   "execution_count": 93,
   "metadata": {},
   "outputs": [],
   "source": [
    "import adm_email as em"
>>>>>>> e35c6c21a5725e941f7f2464346d3ecc2f91b5c7
   ]
  },
  {
   "cell_type": "code",
<<<<<<< HEAD
   "execution_count": 41,
   "metadata": {},
   "outputs": [],
   "source": [
    "#f3.loc[f3[\"fecha_reserva\"] < pd.to_datetime(fecha_vencimiento)].groupby(['tipo_producto','val_dias'])['cant*costoprmd'].sum()"
   ]
  },
  {
   "cell_type": "code",
   "execution_count": 42,
   "metadata": {},
   "outputs": [
    {
     "ename": "AttributeError",
     "evalue": "'DataFrame' object has no attribute 'plt'",
     "output_type": "error",
     "traceback": [
      "\u001b[1;31m---------------------------------------------------------------------------\u001b[0m",
      "\u001b[1;31mAttributeError\u001b[0m                            Traceback (most recent call last)",
      "\u001b[1;32mC:\\Users\\EXT_AN~1\\AppData\\Local\\Temp/ipykernel_14212/4264774331.py\u001b[0m in \u001b[0;36m<module>\u001b[1;34m\u001b[0m\n\u001b[1;32m----> 1\u001b[1;33m \u001b[0max\u001b[0m\u001b[1;33m.\u001b[0m\u001b[0mplt\u001b[0m\u001b[1;33m\u001b[0m\u001b[1;33m\u001b[0m\u001b[0m\n\u001b[0m",
      "\u001b[1;32m~\\Anaconda3\\lib\\site-packages\\pandas\\core\\generic.py\u001b[0m in \u001b[0;36m__getattr__\u001b[1;34m(self, name)\u001b[0m\n\u001b[0;32m   5485\u001b[0m         ):\n\u001b[0;32m   5486\u001b[0m             \u001b[1;32mreturn\u001b[0m \u001b[0mself\u001b[0m\u001b[1;33m[\u001b[0m\u001b[0mname\u001b[0m\u001b[1;33m]\u001b[0m\u001b[1;33m\u001b[0m\u001b[1;33m\u001b[0m\u001b[0m\n\u001b[1;32m-> 5487\u001b[1;33m         \u001b[1;32mreturn\u001b[0m \u001b[0mobject\u001b[0m\u001b[1;33m.\u001b[0m\u001b[0m__getattribute__\u001b[0m\u001b[1;33m(\u001b[0m\u001b[0mself\u001b[0m\u001b[1;33m,\u001b[0m \u001b[0mname\u001b[0m\u001b[1;33m)\u001b[0m\u001b[1;33m\u001b[0m\u001b[1;33m\u001b[0m\u001b[0m\n\u001b[0m\u001b[0;32m   5488\u001b[0m \u001b[1;33m\u001b[0m\u001b[0m\n\u001b[0;32m   5489\u001b[0m     \u001b[1;32mdef\u001b[0m \u001b[0m__setattr__\u001b[0m\u001b[1;33m(\u001b[0m\u001b[0mself\u001b[0m\u001b[1;33m,\u001b[0m \u001b[0mname\u001b[0m\u001b[1;33m:\u001b[0m \u001b[0mstr\u001b[0m\u001b[1;33m,\u001b[0m \u001b[0mvalue\u001b[0m\u001b[1;33m)\u001b[0m \u001b[1;33m->\u001b[0m \u001b[1;32mNone\u001b[0m\u001b[1;33m:\u001b[0m\u001b[1;33m\u001b[0m\u001b[1;33m\u001b[0m\u001b[0m\n",
      "\u001b[1;31mAttributeError\u001b[0m: 'DataFrame' object has no attribute 'plt'"
=======
   "execution_count": 94,
   "metadata": {},
   "outputs": [
    {
     "ename": "TypeError",
     "evalue": "Could not guess image MIME subtype",
     "output_type": "error",
     "traceback": [
      "\u001b[1;31m---------------------------------------------------------------------------\u001b[0m",
      "\u001b[1;31mTypeError\u001b[0m                                 Traceback (most recent call last)",
      "\u001b[1;32mC:\\Users\\EXT_MA~1\\AppData\\Local\\Temp/ipykernel_15660/1549030396.py\u001b[0m in \u001b[0;36m<module>\u001b[1;34m\u001b[0m\n\u001b[0;32m      1\u001b[0m \u001b[0mmensaje\u001b[0m \u001b[1;33m=\u001b[0m \u001b[0mem\u001b[0m\u001b[1;33m.\u001b[0m\u001b[0mheader_email\u001b[0m\u001b[1;33m(\u001b[0m\u001b[1;33m)\u001b[0m\u001b[1;33m\u001b[0m\u001b[1;33m\u001b[0m\u001b[0m\n\u001b[0;32m      2\u001b[0m \u001b[0mhtml\u001b[0m \u001b[1;33m=\u001b[0m \u001b[0mem\u001b[0m\u001b[1;33m.\u001b[0m\u001b[0mbody\u001b[0m\u001b[1;33m(\u001b[0m\u001b[1;33m)\u001b[0m\u001b[1;33m\u001b[0m\u001b[1;33m\u001b[0m\u001b[0m\n\u001b[1;32m----> 3\u001b[1;33m \u001b[0mem\u001b[0m\u001b[1;33m.\u001b[0m\u001b[0mbuild_body\u001b[0m\u001b[1;33m(\u001b[0m\u001b[0mhtml\u001b[0m\u001b[1;33m,\u001b[0m\u001b[0mmensaje\u001b[0m\u001b[1;33m)\u001b[0m\u001b[1;33m\u001b[0m\u001b[1;33m\u001b[0m\u001b[0m\n\u001b[0m\u001b[0;32m      4\u001b[0m \u001b[0mem\u001b[0m\u001b[1;33m.\u001b[0m\u001b[0msend_email\u001b[0m\u001b[1;33m(\u001b[0m\u001b[0mmensaje\u001b[0m\u001b[1;33m)\u001b[0m\u001b[1;33m\u001b[0m\u001b[1;33m\u001b[0m\u001b[0m\n",
      "\u001b[1;32mc:\\Users\\ext_maperezr\\proyectos\\fs-emails\\adm_email.py\u001b[0m in \u001b[0;36mbuild_body\u001b[1;34m(email_content, mensaje)\u001b[0m\n\u001b[0;32m     42\u001b[0m     \u001b[0mmsgAlternative\u001b[0m\u001b[1;33m.\u001b[0m\u001b[0mattach\u001b[0m\u001b[1;33m(\u001b[0m\u001b[0mmsgText\u001b[0m\u001b[1;33m)\u001b[0m\u001b[1;33m\u001b[0m\u001b[1;33m\u001b[0m\u001b[0m\n\u001b[0;32m     43\u001b[0m     \u001b[0mfp\u001b[0m \u001b[1;33m=\u001b[0m \u001b[0mopen\u001b[0m\u001b[1;33m(\u001b[0m\u001b[1;34m'fig.png'\u001b[0m\u001b[1;33m,\u001b[0m \u001b[1;34m'rb'\u001b[0m\u001b[1;33m)\u001b[0m\u001b[1;33m\u001b[0m\u001b[1;33m\u001b[0m\u001b[0m\n\u001b[1;32m---> 44\u001b[1;33m     \u001b[0mmsgImage\u001b[0m \u001b[1;33m=\u001b[0m \u001b[0mMIMEImage\u001b[0m\u001b[1;33m(\u001b[0m\u001b[0mfp\u001b[0m\u001b[1;33m.\u001b[0m\u001b[0mread\u001b[0m\u001b[1;33m(\u001b[0m\u001b[1;33m)\u001b[0m\u001b[1;33m)\u001b[0m\u001b[1;33m\u001b[0m\u001b[1;33m\u001b[0m\u001b[0m\n\u001b[0m\u001b[0;32m     45\u001b[0m     \u001b[0mfp\u001b[0m\u001b[1;33m.\u001b[0m\u001b[0mclose\u001b[0m\u001b[1;33m(\u001b[0m\u001b[1;33m)\u001b[0m\u001b[1;33m\u001b[0m\u001b[1;33m\u001b[0m\u001b[0m\n\u001b[0;32m     46\u001b[0m     \u001b[0mfp2\u001b[0m \u001b[1;33m=\u001b[0m \u001b[0mopen\u001b[0m\u001b[1;33m(\u001b[0m\u001b[1;34m'fig.jpg'\u001b[0m\u001b[1;33m,\u001b[0m \u001b[1;34m'rb'\u001b[0m\u001b[1;33m)\u001b[0m\u001b[1;33m\u001b[0m\u001b[1;33m\u001b[0m\u001b[0m\n",
      "\u001b[1;32m~\\Anaconda3\\lib\\email\\mime\\image.py\u001b[0m in \u001b[0;36m__init__\u001b[1;34m(self, _imagedata, _subtype, _encoder, policy, **_params)\u001b[0m\n\u001b[0;32m     41\u001b[0m             \u001b[0m_subtype\u001b[0m \u001b[1;33m=\u001b[0m \u001b[0mimghdr\u001b[0m\u001b[1;33m.\u001b[0m\u001b[0mwhat\u001b[0m\u001b[1;33m(\u001b[0m\u001b[1;32mNone\u001b[0m\u001b[1;33m,\u001b[0m \u001b[0m_imagedata\u001b[0m\u001b[1;33m)\u001b[0m\u001b[1;33m\u001b[0m\u001b[1;33m\u001b[0m\u001b[0m\n\u001b[0;32m     42\u001b[0m         \u001b[1;32mif\u001b[0m \u001b[0m_subtype\u001b[0m \u001b[1;32mis\u001b[0m \u001b[1;32mNone\u001b[0m\u001b[1;33m:\u001b[0m\u001b[1;33m\u001b[0m\u001b[1;33m\u001b[0m\u001b[0m\n\u001b[1;32m---> 43\u001b[1;33m             \u001b[1;32mraise\u001b[0m \u001b[0mTypeError\u001b[0m\u001b[1;33m(\u001b[0m\u001b[1;34m'Could not guess image MIME subtype'\u001b[0m\u001b[1;33m)\u001b[0m\u001b[1;33m\u001b[0m\u001b[1;33m\u001b[0m\u001b[0m\n\u001b[0m\u001b[0;32m     44\u001b[0m         MIMENonMultipart.__init__(self, 'image', _subtype, policy=policy,\n\u001b[0;32m     45\u001b[0m                                   **_params)\n",
      "\u001b[1;31mTypeError\u001b[0m: Could not guess image MIME subtype"
>>>>>>> e35c6c21a5725e941f7f2464346d3ecc2f91b5c7
     ]
    }
   ],
   "source": [
<<<<<<< HEAD
    "ax.plt"
=======
    "mensaje = em.header_email()\n",
    "html = em.body()\n",
    "em.build_body(html,mensaje)\n",
    "em.send_email(mensaje)"
>>>>>>> e35c6c21a5725e941f7f2464346d3ecc2f91b5c7
   ]
  }
 ],
 "metadata": {
  "interpreter": {
   "hash": "8ebac8f8f364d690520f7fa87029f639f88941f9cdb9d4c74cff5ecb7a0c603e"
  },
  "kernelspec": {
   "display_name": "Python 3.9.7 64-bit ('base': conda)",
   "language": "python",
   "name": "python3"
  },
  "language_info": {
   "codemirror_mode": {
    "name": "ipython",
    "version": 3
   },
   "file_extension": ".py",
   "mimetype": "text/x-python",
   "name": "python",
   "nbconvert_exporter": "python",
   "pygments_lexer": "ipython3",
   "version": "3.9.7"
  },
  "orig_nbformat": 4
 },
 "nbformat": 4,
 "nbformat_minor": 2
}
