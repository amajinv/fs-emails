{
 "cells": [
  {
   "cell_type": "code",
   "execution_count": 39,
   "metadata": {},
   "outputs": [],
   "source": [
    "import pandas as pd"
   ]
  },
  {
   "cell_type": "code",
   "execution_count": 40,
   "metadata": {},
   "outputs": [],
   "source": [
    "f3_name ='f3'\n",
    "f3 = pd.read_csv(f'input_planillas/{f3_name}.csv', sep=';')"
   ]
  },
  {
   "cell_type": "code",
   "execution_count": 41,
   "metadata": {},
   "outputs": [
    {
     "data": {
      "text/html": [
       "<div>\n",
       "<style scoped>\n",
       "    .dataframe tbody tr th:only-of-type {\n",
       "        vertical-align: middle;\n",
       "    }\n",
       "\n",
       "    .dataframe tbody tr th {\n",
       "        vertical-align: top;\n",
       "    }\n",
       "\n",
       "    .dataframe thead th {\n",
       "        text-align: right;\n",
       "    }\n",
       "</style>\n",
       "<table border=\"1\" class=\"dataframe\">\n",
       "  <thead>\n",
       "    <tr style=\"text-align: right;\">\n",
       "      <th></th>\n",
       "      <th>nro_devolucion</th>\n",
       "      <th>fecha_reserva</th>\n",
       "      <th>fecha_envio</th>\n",
       "      <th>fecha_anulacion</th>\n",
       "      <th>fecha_confirmacion</th>\n",
       "      <th>nro_guia</th>\n",
       "      <th>tipo_producto</th>\n",
       "      <th>upc</th>\n",
       "      <th>sku</th>\n",
       "      <th>descripcion</th>\n",
       "      <th>...</th>\n",
       "      <th>cantidad</th>\n",
       "      <th>cant*costo</th>\n",
       "      <th>cant*costoprmd</th>\n",
       "      <th>diferencia</th>\n",
       "      <th>cant*precio</th>\n",
       "      <th>tipo_documento_para_dev</th>\n",
       "      <th>usuario_que_confirma</th>\n",
       "      <th>nc_proveedor</th>\n",
       "      <th>folio_f11</th>\n",
       "      <th>folio_f12</th>\n",
       "    </tr>\n",
       "  </thead>\n",
       "  <tbody>\n",
       "    <tr>\n",
       "      <th>0</th>\n",
       "      <td>32300000</td>\n",
       "      <td>27-jun-2018</td>\n",
       "      <td>27-jun-2018</td>\n",
       "      <td>30-jul-2018</td>\n",
       "      <td>NaN</td>\n",
       "      <td>174446.0</td>\n",
       "      <td>producto</td>\n",
       "      <td>889296228622</td>\n",
       "      <td>3016887</td>\n",
       "      <td>multifuncional todo en uno ia 45(d)</td>\n",
       "      <td>...</td>\n",
       "      <td>1</td>\n",
       "      <td>89980</td>\n",
       "      <td>89990</td>\n",
       "      <td>10.0</td>\n",
       "      <td>299990</td>\n",
       "      <td>nota credito</td>\n",
       "      <td>ljgomez</td>\n",
       "      <td>r6236521892</td>\n",
       "      <td>117062670.0</td>\n",
       "      <td>NaN</td>\n",
       "    </tr>\n",
       "    <tr>\n",
       "      <th>1</th>\n",
       "      <td>32470000</td>\n",
       "      <td>01-ago-2019</td>\n",
       "      <td>01-ago-2019</td>\n",
       "      <td>30-ago-2019</td>\n",
       "      <td>NaN</td>\n",
       "      <td>189551.0</td>\n",
       "      <td>producto</td>\n",
       "      <td>4718017263665</td>\n",
       "      <td>3869248</td>\n",
       "      <td>zenfone live  l2 2-16</td>\n",
       "      <td>...</td>\n",
       "      <td>1</td>\n",
       "      <td>340739</td>\n",
       "      <td>358409</td>\n",
       "      <td>17670.0</td>\n",
       "      <td>499990</td>\n",
       "      <td>nota credito</td>\n",
       "      <td>ljgomez</td>\n",
       "      <td>151119074001630</td>\n",
       "      <td>118821214.0</td>\n",
       "      <td>NaN</td>\n",
       "    </tr>\n",
       "    <tr>\n",
       "      <th>2</th>\n",
       "      <td>32540000</td>\n",
       "      <td>22-feb-2020</td>\n",
       "      <td>22-feb-2020</td>\n",
       "      <td>21-ago-2020</td>\n",
       "      <td>NaN</td>\n",
       "      <td>195585.0</td>\n",
       "      <td>market place</td>\n",
       "      <td>2004125298005</td>\n",
       "      <td>4125298</td>\n",
       "      <td>pantalon termico reductor para dama</td>\n",
       "      <td>...</td>\n",
       "      <td>1</td>\n",
       "      <td>199800</td>\n",
       "      <td>199800</td>\n",
       "      <td>0.0</td>\n",
       "      <td>199800</td>\n",
       "      <td>sin comprobante</td>\n",
       "      <td>ljgomez</td>\n",
       "      <td>NaN</td>\n",
       "      <td>NaN</td>\n",
       "      <td>NaN</td>\n",
       "    </tr>\n",
       "    <tr>\n",
       "      <th>3</th>\n",
       "      <td>32610000</td>\n",
       "      <td>18-sep-2020</td>\n",
       "      <td>18-sep-2020</td>\n",
       "      <td>29-oct-2020</td>\n",
       "      <td>NaN</td>\n",
       "      <td>201969.0</td>\n",
       "      <td>producto</td>\n",
       "      <td>7703081060545</td>\n",
       "      <td>4070103</td>\n",
       "      <td>multicolor fem jr x5 9905 8-10</td>\n",
       "      <td>...</td>\n",
       "      <td>2</td>\n",
       "      <td>46964</td>\n",
       "      <td>46733</td>\n",
       "      <td>230.0</td>\n",
       "      <td>89980</td>\n",
       "      <td>sin comprobante</td>\n",
       "      <td>ljgomez</td>\n",
       "      <td>NaN</td>\n",
       "      <td>NaN</td>\n",
       "      <td>NaN</td>\n",
       "    </tr>\n",
       "    <tr>\n",
       "      <th>4</th>\n",
       "      <td>32610000</td>\n",
       "      <td>18-sep-2020</td>\n",
       "      <td>18-sep-2020</td>\n",
       "      <td>29-oct-2020</td>\n",
       "      <td>NaN</td>\n",
       "      <td>201969.0</td>\n",
       "      <td>producto</td>\n",
       "      <td>7703081061993</td>\n",
       "      <td>4948757</td>\n",
       "      <td>brecia x5 pb 9904 9-11</td>\n",
       "      <td>...</td>\n",
       "      <td>1</td>\n",
       "      <td>20205</td>\n",
       "      <td>20205</td>\n",
       "      <td>0.0</td>\n",
       "      <td>36990</td>\n",
       "      <td>sin comprobante</td>\n",
       "      <td>ljgomez</td>\n",
       "      <td>NaN</td>\n",
       "      <td>NaN</td>\n",
       "      <td>NaN</td>\n",
       "    </tr>\n",
       "  </tbody>\n",
       "</table>\n",
       "<p>5 rows × 35 columns</p>\n",
       "</div>"
      ],
      "text/plain": [
       "   nro_devolucion fecha_reserva  fecha_envio fecha_anulacion  \\\n",
       "0        32300000   27-jun-2018  27-jun-2018     30-jul-2018   \n",
       "1        32470000   01-ago-2019  01-ago-2019     30-ago-2019   \n",
       "2        32540000   22-feb-2020  22-feb-2020     21-ago-2020   \n",
       "3        32610000   18-sep-2020  18-sep-2020     29-oct-2020   \n",
       "4        32610000   18-sep-2020  18-sep-2020     29-oct-2020   \n",
       "\n",
       "  fecha_confirmacion  nro_guia tipo_producto            upc      sku  \\\n",
       "0                NaN  174446.0      producto   889296228622  3016887   \n",
       "1                NaN  189551.0      producto  4718017263665  3869248   \n",
       "2                NaN  195585.0  market place  2004125298005  4125298   \n",
       "3                NaN  201969.0      producto  7703081060545  4070103   \n",
       "4                NaN  201969.0      producto  7703081061993  4948757   \n",
       "\n",
       "                           descripcion  ... cantidad cant*costo  \\\n",
       "0  multifuncional todo en uno ia 45(d)  ...        1      89980   \n",
       "1                zenfone live  l2 2-16  ...        1     340739   \n",
       "2  pantalon termico reductor para dama  ...        1     199800   \n",
       "3       multicolor fem jr x5 9905 8-10  ...        2      46964   \n",
       "4               brecia x5 pb 9904 9-11  ...        1      20205   \n",
       "\n",
       "  cant*costoprmd diferencia cant*precio tipo_documento_para_dev  \\\n",
       "0          89990       10.0      299990            nota credito   \n",
       "1         358409    17670.0      499990            nota credito   \n",
       "2         199800        0.0      199800         sin comprobante   \n",
       "3          46733      230.0       89980         sin comprobante   \n",
       "4          20205        0.0       36990         sin comprobante   \n",
       "\n",
       "  usuario_que_confirma     nc_proveedor    folio_f11 folio_f12  \n",
       "0              ljgomez      r6236521892  117062670.0       NaN  \n",
       "1              ljgomez  151119074001630  118821214.0       NaN  \n",
       "2              ljgomez              NaN          NaN       NaN  \n",
       "3              ljgomez              NaN          NaN       NaN  \n",
       "4              ljgomez              NaN          NaN       NaN  \n",
       "\n",
       "[5 rows x 35 columns]"
      ]
     },
     "execution_count": 41,
     "metadata": {},
     "output_type": "execute_result"
    }
   ],
   "source": [
    "f3.head()"
   ]
  },
  {
   "cell_type": "code",
   "execution_count": 42,
   "metadata": {},
   "outputs": [],
   "source": [
    "f3[\"fecha_reserva\"] = f3[\"fecha_reserva\"].replace([\"ene\", \"abr\", \"ago\", \"dic\"], [\"jan\", \"apr\", \"aug\", \"dec\"], regex=True)  # cambio idioma mes\n",
    "f3[\"fecha_reserva\"] = pd.to_datetime(f3[\"fecha_reserva\"], format='%d-%b-%Y')  # cambio de tipo de dato   "
   ]
  },
  {
   "cell_type": "code",
   "execution_count": 43,
   "metadata": {},
   "outputs": [],
   "source": [
    "f3 = f3.loc[f3.fecha_reserva > '01-01-2021'].reset_index()"
   ]
  },
  {
   "cell_type": "code",
   "execution_count": 44,
   "metadata": {},
   "outputs": [
    {
     "data": {
      "text/plain": [
       "array([2021, 2022], dtype=int64)"
      ]
     },
     "execution_count": 44,
     "metadata": {},
     "output_type": "execute_result"
    }
   ],
   "source": [
    "f3.fecha_reserva.dt.year.unique()"
   ]
  },
  {
   "cell_type": "code",
   "execution_count": 45,
   "metadata": {},
   "outputs": [
    {
     "data": {
      "text/plain": [
       "array(['confirmado', 'anulado', 'enviado', 'reservado'], dtype=object)"
      ]
     },
     "execution_count": 45,
     "metadata": {},
     "output_type": "execute_result"
    }
   ],
   "source": [
    "f3['descripcion6'].unique()"
   ]
  },
  {
   "cell_type": "code",
   "execution_count": 46,
   "metadata": {},
   "outputs": [],
   "source": [
    "f3 = f3.loc[(f3['descripcion6']=='enviado') | (f3['descripcion6']=='reservado') ]\n",
    "f3 = f3.loc[f3.tipo_producto == \"market place\"]"
   ]
  },
  {
   "cell_type": "code",
   "execution_count": 47,
   "metadata": {},
   "outputs": [],
   "source": [
    "f3 = f3.sort_values(\"fecha_reserva\")"
   ]
  },
  {
   "cell_type": "code",
   "execution_count": 48,
   "metadata": {},
   "outputs": [],
   "source": [
    "f3['Mes']  = f3[\"fecha_reserva\"].dt.strftime('%b-%y')"
   ]
  },
  {
   "cell_type": "code",
   "execution_count": 49,
   "metadata": {},
   "outputs": [
    {
     "data": {
      "text/plain": [
       "26211   2021-05-03\n",
       "26945   2021-05-04\n",
       "27432   2021-05-07\n",
       "27478   2021-05-07\n",
       "27384   2021-05-07\n",
       "           ...    \n",
       "70883   2022-01-18\n",
       "70885   2022-01-18\n",
       "70887   2022-01-18\n",
       "70871   2022-01-18\n",
       "70938   2022-01-18\n",
       "Name: fecha_reserva, Length: 4538, dtype: datetime64[ns]"
      ]
     },
     "execution_count": 49,
     "metadata": {},
     "output_type": "execute_result"
    }
   ],
   "source": [
    "f3.fecha_reserva"
   ]
  },
  {
   "cell_type": "code",
   "execution_count": 50,
   "metadata": {},
   "outputs": [],
   "source": [
    "from datetime import date, timedelta\n",
    "fecha_vencimiento = date.today() - timedelta(days=90)"
   ]
  },
  {
   "cell_type": "code",
   "execution_count": 51,
   "metadata": {},
   "outputs": [
    {
     "data": {
      "text/plain": [
       "datetime.date"
      ]
     },
     "execution_count": 51,
     "metadata": {},
     "output_type": "execute_result"
    }
   ],
   "source": [
    "type(fecha_vencimiento)"
   ]
  },
  {
   "cell_type": "code",
   "execution_count": 52,
   "metadata": {},
   "outputs": [],
   "source": [
    "f3.loc[f3[\"fecha_reserva\"] < pd.to_datetime(fecha_vencimiento), 'val_dias'] = 'Mayor a 90 días'"
   ]
  },
  {
   "cell_type": "code",
   "execution_count": 53,
   "metadata": {},
   "outputs": [],
   "source": [
    "f3.loc[f3[\"fecha_reserva\"] >= pd.to_datetime(fecha_vencimiento), 'val_dias'] = f3.loc[f3[\"fecha_reserva\"] >= pd.to_datetime(fecha_vencimiento), 'Mes'].values"
   ]
  },
  {
   "cell_type": "code",
   "execution_count": 54,
   "metadata": {},
   "outputs": [
    {
     "data": {
      "text/html": [
       "<div>\n",
       "<style scoped>\n",
       "    .dataframe tbody tr th:only-of-type {\n",
       "        vertical-align: middle;\n",
       "    }\n",
       "\n",
       "    .dataframe tbody tr th {\n",
       "        vertical-align: top;\n",
       "    }\n",
       "\n",
       "    .dataframe thead th {\n",
       "        text-align: right;\n",
       "    }\n",
       "</style>\n",
       "<table border=\"1\" class=\"dataframe\">\n",
       "  <thead>\n",
       "    <tr style=\"text-align: right;\">\n",
       "      <th></th>\n",
       "      <th>index</th>\n",
       "      <th>nro_devolucion</th>\n",
       "      <th>fecha_reserva</th>\n",
       "      <th>fecha_envio</th>\n",
       "      <th>fecha_anulacion</th>\n",
       "      <th>fecha_confirmacion</th>\n",
       "      <th>nro_guia</th>\n",
       "      <th>tipo_producto</th>\n",
       "      <th>upc</th>\n",
       "      <th>sku</th>\n",
       "      <th>...</th>\n",
       "      <th>cant*costoprmd</th>\n",
       "      <th>diferencia</th>\n",
       "      <th>cant*precio</th>\n",
       "      <th>tipo_documento_para_dev</th>\n",
       "      <th>usuario_que_confirma</th>\n",
       "      <th>nc_proveedor</th>\n",
       "      <th>folio_f11</th>\n",
       "      <th>folio_f12</th>\n",
       "      <th>Mes</th>\n",
       "      <th>val_dias</th>\n",
       "    </tr>\n",
       "  </thead>\n",
       "  <tbody>\n",
       "    <tr>\n",
       "      <th>26211</th>\n",
       "      <td>225406</td>\n",
       "      <td>32883961</td>\n",
       "      <td>2021-05-03</td>\n",
       "      <td>NaN</td>\n",
       "      <td>NaN</td>\n",
       "      <td>NaN</td>\n",
       "      <td>NaN</td>\n",
       "      <td>market place</td>\n",
       "      <td>7703272364292</td>\n",
       "      <td>11367758</td>\n",
       "      <td>...</td>\n",
       "      <td>25200</td>\n",
       "      <td>0.0</td>\n",
       "      <td>25200</td>\n",
       "      <td>nota credito</td>\n",
       "      <td>NaN</td>\n",
       "      <td>NaN</td>\n",
       "      <td>NaN</td>\n",
       "      <td>1.263658e+10</td>\n",
       "      <td>May-21</td>\n",
       "      <td>Mayor a 90 días</td>\n",
       "    </tr>\n",
       "    <tr>\n",
       "      <th>26945</th>\n",
       "      <td>226140</td>\n",
       "      <td>32890624</td>\n",
       "      <td>2021-05-04</td>\n",
       "      <td>05-may-2021</td>\n",
       "      <td>NaN</td>\n",
       "      <td>NaN</td>\n",
       "      <td>225012.0</td>\n",
       "      <td>market place</td>\n",
       "      <td>2009290078001</td>\n",
       "      <td>9290078</td>\n",
       "      <td>...</td>\n",
       "      <td>114900</td>\n",
       "      <td>5000.0</td>\n",
       "      <td>109900</td>\n",
       "      <td>nota credito</td>\n",
       "      <td>NaN</td>\n",
       "      <td>NaN</td>\n",
       "      <td>NaN</td>\n",
       "      <td>1.264040e+10</td>\n",
       "      <td>May-21</td>\n",
       "      <td>Mayor a 90 días</td>\n",
       "    </tr>\n",
       "    <tr>\n",
       "      <th>27432</th>\n",
       "      <td>226627</td>\n",
       "      <td>32896602</td>\n",
       "      <td>2021-05-07</td>\n",
       "      <td>07-may-2021</td>\n",
       "      <td>NaN</td>\n",
       "      <td>NaN</td>\n",
       "      <td>225823.0</td>\n",
       "      <td>market place</td>\n",
       "      <td>2008391773006</td>\n",
       "      <td>8391773</td>\n",
       "      <td>...</td>\n",
       "      <td>799990</td>\n",
       "      <td>0.0</td>\n",
       "      <td>799990</td>\n",
       "      <td>nota credito</td>\n",
       "      <td>NaN</td>\n",
       "      <td>12604264979</td>\n",
       "      <td>NaN</td>\n",
       "      <td>NaN</td>\n",
       "      <td>May-21</td>\n",
       "      <td>Mayor a 90 días</td>\n",
       "    </tr>\n",
       "    <tr>\n",
       "      <th>27478</th>\n",
       "      <td>226673</td>\n",
       "      <td>32897203</td>\n",
       "      <td>2021-05-07</td>\n",
       "      <td>07-may-2021</td>\n",
       "      <td>NaN</td>\n",
       "      <td>NaN</td>\n",
       "      <td>225838.0</td>\n",
       "      <td>market place</td>\n",
       "      <td>2004637156008</td>\n",
       "      <td>4637156</td>\n",
       "      <td>...</td>\n",
       "      <td>1247900</td>\n",
       "      <td>0.0</td>\n",
       "      <td>999900</td>\n",
       "      <td>nota credito</td>\n",
       "      <td>NaN</td>\n",
       "      <td>12591417570</td>\n",
       "      <td>NaN</td>\n",
       "      <td>NaN</td>\n",
       "      <td>May-21</td>\n",
       "      <td>Mayor a 90 días</td>\n",
       "    </tr>\n",
       "    <tr>\n",
       "      <th>27384</th>\n",
       "      <td>226579</td>\n",
       "      <td>32895728</td>\n",
       "      <td>2021-05-07</td>\n",
       "      <td>11-oct-2021</td>\n",
       "      <td>NaN</td>\n",
       "      <td>NaN</td>\n",
       "      <td>246500.0</td>\n",
       "      <td>market place</td>\n",
       "      <td>2005864128004</td>\n",
       "      <td>5864128</td>\n",
       "      <td>...</td>\n",
       "      <td>2019900</td>\n",
       "      <td>0.0</td>\n",
       "      <td>2019900</td>\n",
       "      <td>nota credito</td>\n",
       "      <td>NaN</td>\n",
       "      <td>12590740945</td>\n",
       "      <td>NaN</td>\n",
       "      <td>NaN</td>\n",
       "      <td>May-21</td>\n",
       "      <td>Mayor a 90 días</td>\n",
       "    </tr>\n",
       "    <tr>\n",
       "      <th>...</th>\n",
       "      <td>...</td>\n",
       "      <td>...</td>\n",
       "      <td>...</td>\n",
       "      <td>...</td>\n",
       "      <td>...</td>\n",
       "      <td>...</td>\n",
       "      <td>...</td>\n",
       "      <td>...</td>\n",
       "      <td>...</td>\n",
       "      <td>...</td>\n",
       "      <td>...</td>\n",
       "      <td>...</td>\n",
       "      <td>...</td>\n",
       "      <td>...</td>\n",
       "      <td>...</td>\n",
       "      <td>...</td>\n",
       "      <td>...</td>\n",
       "      <td>...</td>\n",
       "      <td>...</td>\n",
       "      <td>...</td>\n",
       "      <td>...</td>\n",
       "    </tr>\n",
       "    <tr>\n",
       "      <th>70883</th>\n",
       "      <td>270078</td>\n",
       "      <td>33293165</td>\n",
       "      <td>2022-01-18</td>\n",
       "      <td>18-ene-2022</td>\n",
       "      <td>NaN</td>\n",
       "      <td>NaN</td>\n",
       "      <td>260058.0</td>\n",
       "      <td>market place</td>\n",
       "      <td>2019900767003</td>\n",
       "      <td>19900767</td>\n",
       "      <td>...</td>\n",
       "      <td>29990</td>\n",
       "      <td>0.0</td>\n",
       "      <td>29990</td>\n",
       "      <td>nota credito</td>\n",
       "      <td>NaN</td>\n",
       "      <td>NaN</td>\n",
       "      <td>NaN</td>\n",
       "      <td>1.267732e+10</td>\n",
       "      <td>Jan-22</td>\n",
       "      <td>Jan-22</td>\n",
       "    </tr>\n",
       "    <tr>\n",
       "      <th>70885</th>\n",
       "      <td>270080</td>\n",
       "      <td>33293189</td>\n",
       "      <td>2022-01-18</td>\n",
       "      <td>18-ene-2022</td>\n",
       "      <td>NaN</td>\n",
       "      <td>NaN</td>\n",
       "      <td>260060.0</td>\n",
       "      <td>market place</td>\n",
       "      <td>2020068729000</td>\n",
       "      <td>20068729</td>\n",
       "      <td>...</td>\n",
       "      <td>87800</td>\n",
       "      <td>0.0</td>\n",
       "      <td>87800</td>\n",
       "      <td>nota credito</td>\n",
       "      <td>NaN</td>\n",
       "      <td>NaN</td>\n",
       "      <td>NaN</td>\n",
       "      <td>1.267732e+10</td>\n",
       "      <td>Jan-22</td>\n",
       "      <td>Jan-22</td>\n",
       "    </tr>\n",
       "    <tr>\n",
       "      <th>70887</th>\n",
       "      <td>270082</td>\n",
       "      <td>33293202</td>\n",
       "      <td>2022-01-18</td>\n",
       "      <td>18-ene-2022</td>\n",
       "      <td>NaN</td>\n",
       "      <td>NaN</td>\n",
       "      <td>260059.0</td>\n",
       "      <td>market place</td>\n",
       "      <td>2003943514007</td>\n",
       "      <td>3943514</td>\n",
       "      <td>...</td>\n",
       "      <td>99900</td>\n",
       "      <td>0.0</td>\n",
       "      <td>99900</td>\n",
       "      <td>nota credito</td>\n",
       "      <td>NaN</td>\n",
       "      <td>NaN</td>\n",
       "      <td>NaN</td>\n",
       "      <td>1.267610e+10</td>\n",
       "      <td>Jan-22</td>\n",
       "      <td>Jan-22</td>\n",
       "    </tr>\n",
       "    <tr>\n",
       "      <th>70871</th>\n",
       "      <td>270066</td>\n",
       "      <td>33293035</td>\n",
       "      <td>2022-01-18</td>\n",
       "      <td>NaN</td>\n",
       "      <td>NaN</td>\n",
       "      <td>NaN</td>\n",
       "      <td>NaN</td>\n",
       "      <td>market place</td>\n",
       "      <td>2020620901004</td>\n",
       "      <td>20620901</td>\n",
       "      <td>...</td>\n",
       "      <td>159000</td>\n",
       "      <td>0.0</td>\n",
       "      <td>159000</td>\n",
       "      <td>nota credito</td>\n",
       "      <td>NaN</td>\n",
       "      <td>NaN</td>\n",
       "      <td>NaN</td>\n",
       "      <td>1.267642e+10</td>\n",
       "      <td>Jan-22</td>\n",
       "      <td>Jan-22</td>\n",
       "    </tr>\n",
       "    <tr>\n",
       "      <th>70938</th>\n",
       "      <td>270133</td>\n",
       "      <td>33293691</td>\n",
       "      <td>2022-01-18</td>\n",
       "      <td>18-ene-2022</td>\n",
       "      <td>NaN</td>\n",
       "      <td>NaN</td>\n",
       "      <td>260089.0</td>\n",
       "      <td>market place</td>\n",
       "      <td>2005585683004</td>\n",
       "      <td>5585683</td>\n",
       "      <td>...</td>\n",
       "      <td>35900</td>\n",
       "      <td>0.0</td>\n",
       "      <td>38000</td>\n",
       "      <td>nota credito</td>\n",
       "      <td>NaN</td>\n",
       "      <td>NaN</td>\n",
       "      <td>NaN</td>\n",
       "      <td>1.265230e+10</td>\n",
       "      <td>Jan-22</td>\n",
       "      <td>Jan-22</td>\n",
       "    </tr>\n",
       "  </tbody>\n",
       "</table>\n",
       "<p>4538 rows × 38 columns</p>\n",
       "</div>"
      ],
      "text/plain": [
       "        index  nro_devolucion fecha_reserva  fecha_envio fecha_anulacion  \\\n",
       "26211  225406        32883961    2021-05-03          NaN             NaN   \n",
       "26945  226140        32890624    2021-05-04  05-may-2021             NaN   \n",
       "27432  226627        32896602    2021-05-07  07-may-2021             NaN   \n",
       "27478  226673        32897203    2021-05-07  07-may-2021             NaN   \n",
       "27384  226579        32895728    2021-05-07  11-oct-2021             NaN   \n",
       "...       ...             ...           ...          ...             ...   \n",
       "70883  270078        33293165    2022-01-18  18-ene-2022             NaN   \n",
       "70885  270080        33293189    2022-01-18  18-ene-2022             NaN   \n",
       "70887  270082        33293202    2022-01-18  18-ene-2022             NaN   \n",
       "70871  270066        33293035    2022-01-18          NaN             NaN   \n",
       "70938  270133        33293691    2022-01-18  18-ene-2022             NaN   \n",
       "\n",
       "      fecha_confirmacion  nro_guia tipo_producto            upc       sku  \\\n",
       "26211                NaN       NaN  market place  7703272364292  11367758   \n",
       "26945                NaN  225012.0  market place  2009290078001   9290078   \n",
       "27432                NaN  225823.0  market place  2008391773006   8391773   \n",
       "27478                NaN  225838.0  market place  2004637156008   4637156   \n",
       "27384                NaN  246500.0  market place  2005864128004   5864128   \n",
       "...                  ...       ...           ...            ...       ...   \n",
       "70883                NaN  260058.0  market place  2019900767003  19900767   \n",
       "70885                NaN  260060.0  market place  2020068729000  20068729   \n",
       "70887                NaN  260059.0  market place  2003943514007   3943514   \n",
       "70871                NaN       NaN  market place  2020620901004  20620901   \n",
       "70938                NaN  260089.0  market place  2005585683004   5585683   \n",
       "\n",
       "       ... cant*costoprmd diferencia cant*precio tipo_documento_para_dev  \\\n",
       "26211  ...          25200        0.0       25200            nota credito   \n",
       "26945  ...         114900     5000.0      109900            nota credito   \n",
       "27432  ...         799990        0.0      799990            nota credito   \n",
       "27478  ...        1247900        0.0      999900            nota credito   \n",
       "27384  ...        2019900        0.0     2019900            nota credito   \n",
       "...    ...            ...        ...         ...                     ...   \n",
       "70883  ...          29990        0.0       29990            nota credito   \n",
       "70885  ...          87800        0.0       87800            nota credito   \n",
       "70887  ...          99900        0.0       99900            nota credito   \n",
       "70871  ...         159000        0.0      159000            nota credito   \n",
       "70938  ...          35900        0.0       38000            nota credito   \n",
       "\n",
       "      usuario_que_confirma nc_proveedor folio_f11     folio_f12     Mes  \\\n",
       "26211                  NaN          NaN       NaN  1.263658e+10  May-21   \n",
       "26945                  NaN          NaN       NaN  1.264040e+10  May-21   \n",
       "27432                  NaN  12604264979       NaN           NaN  May-21   \n",
       "27478                  NaN  12591417570       NaN           NaN  May-21   \n",
       "27384                  NaN  12590740945       NaN           NaN  May-21   \n",
       "...                    ...          ...       ...           ...     ...   \n",
       "70883                  NaN          NaN       NaN  1.267732e+10  Jan-22   \n",
       "70885                  NaN          NaN       NaN  1.267732e+10  Jan-22   \n",
       "70887                  NaN          NaN       NaN  1.267610e+10  Jan-22   \n",
       "70871                  NaN          NaN       NaN  1.267642e+10  Jan-22   \n",
       "70938                  NaN          NaN       NaN  1.265230e+10  Jan-22   \n",
       "\n",
       "              val_dias  \n",
       "26211  Mayor a 90 días  \n",
       "26945  Mayor a 90 días  \n",
       "27432  Mayor a 90 días  \n",
       "27478  Mayor a 90 días  \n",
       "27384  Mayor a 90 días  \n",
       "...                ...  \n",
       "70883           Jan-22  \n",
       "70885           Jan-22  \n",
       "70887           Jan-22  \n",
       "70871           Jan-22  \n",
       "70938           Jan-22  \n",
       "\n",
       "[4538 rows x 38 columns]"
      ]
     },
     "execution_count": 54,
     "metadata": {},
     "output_type": "execute_result"
    }
   ],
   "source": [
    "f3"
   ]
  },
  {
   "cell_type": "code",
   "execution_count": 103,
   "metadata": {},
   "outputs": [],
   "source": [
    "x_90_dias = f3.groupby(['Mes', \"val_dias\"], sort=False)['cant*costoprmd'].sum().reset_index()\n",
    "x_90_dias[\"color\"] = x_90_dias[\"val_dias\"]\n",
    "x_90_dias.loc[x_90_dias[\"val_dias\"] != \"Mayor a 90 días\" , \"color\" ] = \"Menor a 90 días\"\n",
    "x_90_dias[\"cant*costoprmd\"]=round((x_90_dias[\"cant*costoprmd\"]/1e6),2)\n"
   ]
  },
  {
   "cell_type": "code",
   "execution_count": 105,
   "metadata": {},
   "outputs": [
    {
     "data": {
      "application/vnd.plotly.v1+json": {
       "config": {
        "plotlyServerURL": "https://plot.ly"
       },
       "data": [
        {
         "alignmentgroup": "True",
         "hovertemplate": "color=Mayor a 90 días<br>Mes=%{x}<br>cant*costoprmd=%{text}<extra></extra>",
         "legendgroup": "Mayor a 90 días",
         "marker": {
          "color": "#BF0A00",
          "pattern": {
           "shape": ""
          }
         },
         "name": "Mayor a 90 días",
         "offsetgroup": "Mayor a 90 días",
         "orientation": "v",
         "showlegend": true,
         "text": [
          70.51,
          2.55,
          35.67,
          22.82,
          15.12,
          311.26
         ],
         "textposition": "auto",
         "type": "bar",
         "x": [
          "May-21",
          "Jun-21",
          "Jul-21",
          "Aug-21",
          "Sep-21",
          "Oct-21"
         ],
         "xaxis": "x",
         "y": [
          70.51,
          2.55,
          35.67,
          22.82,
          15.12,
          311.26
         ],
         "yaxis": "y"
        },
        {
         "alignmentgroup": "True",
         "hovertemplate": "color=Menor a 90 días<br>Mes=%{x}<br>cant*costoprmd=%{text}<extra></extra>",
         "legendgroup": "Menor a 90 días",
         "marker": {
          "color": "#236A2C",
          "pattern": {
           "shape": ""
          }
         },
         "name": "Menor a 90 días",
         "offsetgroup": "Menor a 90 días",
         "orientation": "v",
         "showlegend": true,
         "text": [
          10.25,
          246.16,
          519.95,
          417.87
         ],
         "textposition": "auto",
         "type": "bar",
         "x": [
          "Oct-21",
          "Nov-21",
          "Dec-21",
          "Jan-22"
         ],
         "xaxis": "x",
         "y": [
          10.25,
          246.16,
          519.95,
          417.87
         ],
         "yaxis": "y"
        }
       ],
       "layout": {
        "barmode": "relative",
        "legend": {
         "title": {
          "text": "color"
         },
         "tracegroupgap": 0
        },
        "margin": {
         "t": 60
        },
        "template": {
         "data": {
          "bar": [
           {
            "error_x": {
             "color": "#2a3f5f"
            },
            "error_y": {
             "color": "#2a3f5f"
            },
            "marker": {
             "line": {
              "color": "#E5ECF6",
              "width": 0.5
             },
             "pattern": {
              "fillmode": "overlay",
              "size": 10,
              "solidity": 0.2
             }
            },
            "type": "bar"
           }
          ],
          "barpolar": [
           {
            "marker": {
             "line": {
              "color": "#E5ECF6",
              "width": 0.5
             },
             "pattern": {
              "fillmode": "overlay",
              "size": 10,
              "solidity": 0.2
             }
            },
            "type": "barpolar"
           }
          ],
          "carpet": [
           {
            "aaxis": {
             "endlinecolor": "#2a3f5f",
             "gridcolor": "white",
             "linecolor": "white",
             "minorgridcolor": "white",
             "startlinecolor": "#2a3f5f"
            },
            "baxis": {
             "endlinecolor": "#2a3f5f",
             "gridcolor": "white",
             "linecolor": "white",
             "minorgridcolor": "white",
             "startlinecolor": "#2a3f5f"
            },
            "type": "carpet"
           }
          ],
          "choropleth": [
           {
            "colorbar": {
             "outlinewidth": 0,
             "ticks": ""
            },
            "type": "choropleth"
           }
          ],
          "contour": [
           {
            "colorbar": {
             "outlinewidth": 0,
             "ticks": ""
            },
            "colorscale": [
             [
              0,
              "#0d0887"
             ],
             [
              0.1111111111111111,
              "#46039f"
             ],
             [
              0.2222222222222222,
              "#7201a8"
             ],
             [
              0.3333333333333333,
              "#9c179e"
             ],
             [
              0.4444444444444444,
              "#bd3786"
             ],
             [
              0.5555555555555556,
              "#d8576b"
             ],
             [
              0.6666666666666666,
              "#ed7953"
             ],
             [
              0.7777777777777778,
              "#fb9f3a"
             ],
             [
              0.8888888888888888,
              "#fdca26"
             ],
             [
              1,
              "#f0f921"
             ]
            ],
            "type": "contour"
           }
          ],
          "contourcarpet": [
           {
            "colorbar": {
             "outlinewidth": 0,
             "ticks": ""
            },
            "type": "contourcarpet"
           }
          ],
          "heatmap": [
           {
            "colorbar": {
             "outlinewidth": 0,
             "ticks": ""
            },
            "colorscale": [
             [
              0,
              "#0d0887"
             ],
             [
              0.1111111111111111,
              "#46039f"
             ],
             [
              0.2222222222222222,
              "#7201a8"
             ],
             [
              0.3333333333333333,
              "#9c179e"
             ],
             [
              0.4444444444444444,
              "#bd3786"
             ],
             [
              0.5555555555555556,
              "#d8576b"
             ],
             [
              0.6666666666666666,
              "#ed7953"
             ],
             [
              0.7777777777777778,
              "#fb9f3a"
             ],
             [
              0.8888888888888888,
              "#fdca26"
             ],
             [
              1,
              "#f0f921"
             ]
            ],
            "type": "heatmap"
           }
          ],
          "heatmapgl": [
           {
            "colorbar": {
             "outlinewidth": 0,
             "ticks": ""
            },
            "colorscale": [
             [
              0,
              "#0d0887"
             ],
             [
              0.1111111111111111,
              "#46039f"
             ],
             [
              0.2222222222222222,
              "#7201a8"
             ],
             [
              0.3333333333333333,
              "#9c179e"
             ],
             [
              0.4444444444444444,
              "#bd3786"
             ],
             [
              0.5555555555555556,
              "#d8576b"
             ],
             [
              0.6666666666666666,
              "#ed7953"
             ],
             [
              0.7777777777777778,
              "#fb9f3a"
             ],
             [
              0.8888888888888888,
              "#fdca26"
             ],
             [
              1,
              "#f0f921"
             ]
            ],
            "type": "heatmapgl"
           }
          ],
          "histogram": [
           {
            "marker": {
             "pattern": {
              "fillmode": "overlay",
              "size": 10,
              "solidity": 0.2
             }
            },
            "type": "histogram"
           }
          ],
          "histogram2d": [
           {
            "colorbar": {
             "outlinewidth": 0,
             "ticks": ""
            },
            "colorscale": [
             [
              0,
              "#0d0887"
             ],
             [
              0.1111111111111111,
              "#46039f"
             ],
             [
              0.2222222222222222,
              "#7201a8"
             ],
             [
              0.3333333333333333,
              "#9c179e"
             ],
             [
              0.4444444444444444,
              "#bd3786"
             ],
             [
              0.5555555555555556,
              "#d8576b"
             ],
             [
              0.6666666666666666,
              "#ed7953"
             ],
             [
              0.7777777777777778,
              "#fb9f3a"
             ],
             [
              0.8888888888888888,
              "#fdca26"
             ],
             [
              1,
              "#f0f921"
             ]
            ],
            "type": "histogram2d"
           }
          ],
          "histogram2dcontour": [
           {
            "colorbar": {
             "outlinewidth": 0,
             "ticks": ""
            },
            "colorscale": [
             [
              0,
              "#0d0887"
             ],
             [
              0.1111111111111111,
              "#46039f"
             ],
             [
              0.2222222222222222,
              "#7201a8"
             ],
             [
              0.3333333333333333,
              "#9c179e"
             ],
             [
              0.4444444444444444,
              "#bd3786"
             ],
             [
              0.5555555555555556,
              "#d8576b"
             ],
             [
              0.6666666666666666,
              "#ed7953"
             ],
             [
              0.7777777777777778,
              "#fb9f3a"
             ],
             [
              0.8888888888888888,
              "#fdca26"
             ],
             [
              1,
              "#f0f921"
             ]
            ],
            "type": "histogram2dcontour"
           }
          ],
          "mesh3d": [
           {
            "colorbar": {
             "outlinewidth": 0,
             "ticks": ""
            },
            "type": "mesh3d"
           }
          ],
          "parcoords": [
           {
            "line": {
             "colorbar": {
              "outlinewidth": 0,
              "ticks": ""
             }
            },
            "type": "parcoords"
           }
          ],
          "pie": [
           {
            "automargin": true,
            "type": "pie"
           }
          ],
          "scatter": [
           {
            "marker": {
             "colorbar": {
              "outlinewidth": 0,
              "ticks": ""
             }
            },
            "type": "scatter"
           }
          ],
          "scatter3d": [
           {
            "line": {
             "colorbar": {
              "outlinewidth": 0,
              "ticks": ""
             }
            },
            "marker": {
             "colorbar": {
              "outlinewidth": 0,
              "ticks": ""
             }
            },
            "type": "scatter3d"
           }
          ],
          "scattercarpet": [
           {
            "marker": {
             "colorbar": {
              "outlinewidth": 0,
              "ticks": ""
             }
            },
            "type": "scattercarpet"
           }
          ],
          "scattergeo": [
           {
            "marker": {
             "colorbar": {
              "outlinewidth": 0,
              "ticks": ""
             }
            },
            "type": "scattergeo"
           }
          ],
          "scattergl": [
           {
            "marker": {
             "colorbar": {
              "outlinewidth": 0,
              "ticks": ""
             }
            },
            "type": "scattergl"
           }
          ],
          "scattermapbox": [
           {
            "marker": {
             "colorbar": {
              "outlinewidth": 0,
              "ticks": ""
             }
            },
            "type": "scattermapbox"
           }
          ],
          "scatterpolar": [
           {
            "marker": {
             "colorbar": {
              "outlinewidth": 0,
              "ticks": ""
             }
            },
            "type": "scatterpolar"
           }
          ],
          "scatterpolargl": [
           {
            "marker": {
             "colorbar": {
              "outlinewidth": 0,
              "ticks": ""
             }
            },
            "type": "scatterpolargl"
           }
          ],
          "scatterternary": [
           {
            "marker": {
             "colorbar": {
              "outlinewidth": 0,
              "ticks": ""
             }
            },
            "type": "scatterternary"
           }
          ],
          "surface": [
           {
            "colorbar": {
             "outlinewidth": 0,
             "ticks": ""
            },
            "colorscale": [
             [
              0,
              "#0d0887"
             ],
             [
              0.1111111111111111,
              "#46039f"
             ],
             [
              0.2222222222222222,
              "#7201a8"
             ],
             [
              0.3333333333333333,
              "#9c179e"
             ],
             [
              0.4444444444444444,
              "#bd3786"
             ],
             [
              0.5555555555555556,
              "#d8576b"
             ],
             [
              0.6666666666666666,
              "#ed7953"
             ],
             [
              0.7777777777777778,
              "#fb9f3a"
             ],
             [
              0.8888888888888888,
              "#fdca26"
             ],
             [
              1,
              "#f0f921"
             ]
            ],
            "type": "surface"
           }
          ],
          "table": [
           {
            "cells": {
             "fill": {
              "color": "#EBF0F8"
             },
             "line": {
              "color": "white"
             }
            },
            "header": {
             "fill": {
              "color": "#C8D4E3"
             },
             "line": {
              "color": "white"
             }
            },
            "type": "table"
           }
          ]
         },
         "layout": {
          "annotationdefaults": {
           "arrowcolor": "#2a3f5f",
           "arrowhead": 0,
           "arrowwidth": 1
          },
          "autotypenumbers": "strict",
          "coloraxis": {
           "colorbar": {
            "outlinewidth": 0,
            "ticks": ""
           }
          },
          "colorscale": {
           "diverging": [
            [
             0,
             "#8e0152"
            ],
            [
             0.1,
             "#c51b7d"
            ],
            [
             0.2,
             "#de77ae"
            ],
            [
             0.3,
             "#f1b6da"
            ],
            [
             0.4,
             "#fde0ef"
            ],
            [
             0.5,
             "#f7f7f7"
            ],
            [
             0.6,
             "#e6f5d0"
            ],
            [
             0.7,
             "#b8e186"
            ],
            [
             0.8,
             "#7fbc41"
            ],
            [
             0.9,
             "#4d9221"
            ],
            [
             1,
             "#276419"
            ]
           ],
           "sequential": [
            [
             0,
             "#0d0887"
            ],
            [
             0.1111111111111111,
             "#46039f"
            ],
            [
             0.2222222222222222,
             "#7201a8"
            ],
            [
             0.3333333333333333,
             "#9c179e"
            ],
            [
             0.4444444444444444,
             "#bd3786"
            ],
            [
             0.5555555555555556,
             "#d8576b"
            ],
            [
             0.6666666666666666,
             "#ed7953"
            ],
            [
             0.7777777777777778,
             "#fb9f3a"
            ],
            [
             0.8888888888888888,
             "#fdca26"
            ],
            [
             1,
             "#f0f921"
            ]
           ],
           "sequentialminus": [
            [
             0,
             "#0d0887"
            ],
            [
             0.1111111111111111,
             "#46039f"
            ],
            [
             0.2222222222222222,
             "#7201a8"
            ],
            [
             0.3333333333333333,
             "#9c179e"
            ],
            [
             0.4444444444444444,
             "#bd3786"
            ],
            [
             0.5555555555555556,
             "#d8576b"
            ],
            [
             0.6666666666666666,
             "#ed7953"
            ],
            [
             0.7777777777777778,
             "#fb9f3a"
            ],
            [
             0.8888888888888888,
             "#fdca26"
            ],
            [
             1,
             "#f0f921"
            ]
           ]
          },
          "colorway": [
           "#636efa",
           "#EF553B",
           "#00cc96",
           "#ab63fa",
           "#FFA15A",
           "#19d3f3",
           "#FF6692",
           "#B6E880",
           "#FF97FF",
           "#FECB52"
          ],
          "font": {
           "color": "#2a3f5f"
          },
          "geo": {
           "bgcolor": "white",
           "lakecolor": "white",
           "landcolor": "#E5ECF6",
           "showlakes": true,
           "showland": true,
           "subunitcolor": "white"
          },
          "hoverlabel": {
           "align": "left"
          },
          "hovermode": "closest",
          "mapbox": {
           "style": "light"
          },
          "paper_bgcolor": "white",
          "plot_bgcolor": "#E5ECF6",
          "polar": {
           "angularaxis": {
            "gridcolor": "white",
            "linecolor": "white",
            "ticks": ""
           },
           "bgcolor": "#E5ECF6",
           "radialaxis": {
            "gridcolor": "white",
            "linecolor": "white",
            "ticks": ""
           }
          },
          "scene": {
           "xaxis": {
            "backgroundcolor": "#E5ECF6",
            "gridcolor": "white",
            "gridwidth": 2,
            "linecolor": "white",
            "showbackground": true,
            "ticks": "",
            "zerolinecolor": "white"
           },
           "yaxis": {
            "backgroundcolor": "#E5ECF6",
            "gridcolor": "white",
            "gridwidth": 2,
            "linecolor": "white",
            "showbackground": true,
            "ticks": "",
            "zerolinecolor": "white"
           },
           "zaxis": {
            "backgroundcolor": "#E5ECF6",
            "gridcolor": "white",
            "gridwidth": 2,
            "linecolor": "white",
            "showbackground": true,
            "ticks": "",
            "zerolinecolor": "white"
           }
          },
          "shapedefaults": {
           "line": {
            "color": "#2a3f5f"
           }
          },
          "ternary": {
           "aaxis": {
            "gridcolor": "white",
            "linecolor": "white",
            "ticks": ""
           },
           "baxis": {
            "gridcolor": "white",
            "linecolor": "white",
            "ticks": ""
           },
           "bgcolor": "#E5ECF6",
           "caxis": {
            "gridcolor": "white",
            "linecolor": "white",
            "ticks": ""
           }
          },
          "title": {
           "x": 0.05
          },
          "xaxis": {
           "automargin": true,
           "gridcolor": "white",
           "linecolor": "white",
           "ticks": "",
           "title": {
            "standoff": 15
           },
           "zerolinecolor": "white",
           "zerolinewidth": 2
          },
          "yaxis": {
           "automargin": true,
           "gridcolor": "white",
           "linecolor": "white",
           "ticks": "",
           "title": {
            "standoff": 15
           },
           "zerolinecolor": "white",
           "zerolinewidth": 2
          }
         }
        },
        "xaxis": {
         "anchor": "y",
         "domain": [
          0,
          1
         ],
         "title": {
          "text": "Mes"
         }
        },
        "yaxis": {
         "anchor": "x",
         "domain": [
          0,
          1
         ],
         "title": {
          "text": "cant*costoprmd"
         }
        }
       }
      }
     },
     "metadata": {},
     "output_type": "display_data"
    }
   ],
   "source": [
    "import plotly.express as px\n",
    "fig = px.bar(x_90_dias, x=\"Mes\", y=\"cant*costoprmd\",text=\"cant*costoprmd\", color=\"color\",color_discrete_sequence=[\"#BF0A00\", \"#236A2C\"],)\n",
    "fig.show()\n",
    "fig.write_image(\"fig.svg\")"
   ]
  },
  {
   "cell_type": "code",
   "execution_count": null,
   "metadata": {},
   "outputs": [],
   "source": [
    "tienda = ['101', '108', '93', '6', '183', '25', '38', '53', '13', '43', '82',\n",
    "         '138', '72', '35', '60', '123', '98', '36', '19', '18', '50', '45',\n",
    "         '85', '56', '96','322', '131', '139', '141', '143', '5', '142', '37','3009']\n",
    "cd = ['3000', '9903', '2000', '2001', '2002', '9970', '9901', '3002', '9905', '9961']\n",
    "sac = ['3001','99']\n",
    "nan = ['11','9910','3004','3006','9902', '9921','9951']"
   ]
  },
  {
   "cell_type": "markdown",
   "metadata": {},
   "source": []
  },
  {
   "cell_type": "code",
   "execution_count": null,
   "metadata": {},
   "outputs": [],
   "source": [
    "f3.loc[f3.local.isin(tienda), 'grupo'] = 'TIENDA'\n",
    "f3.loc[f3.local.isin(cd), 'grupo'] = 'CD'\n",
    "f3.loc[f3.local.isin(sac), 'grupo'] = 'SAC'\n",
    "f3.loc[f3.local.isin(nan), 'grupo'] = 'NAN'"
   ]
  },
  {
   "cell_type": "code",
   "execution_count": null,
   "metadata": {},
   "outputs": [
    {
     "data": {
      "text/html": [
       "<div>\n",
       "<style scoped>\n",
       "    .dataframe tbody tr th:only-of-type {\n",
       "        vertical-align: middle;\n",
       "    }\n",
       "\n",
       "    .dataframe tbody tr th {\n",
       "        vertical-align: top;\n",
       "    }\n",
       "\n",
       "    .dataframe thead th {\n",
       "        text-align: right;\n",
       "    }\n",
       "</style>\n",
       "<table border=\"1\" class=\"dataframe\">\n",
       "  <thead>\n",
       "    <tr style=\"text-align: right;\">\n",
       "      <th></th>\n",
       "      <th></th>\n",
       "      <th>cant*costoprmd</th>\n",
       "    </tr>\n",
       "    <tr>\n",
       "      <th>val_dias</th>\n",
       "      <th>grupo</th>\n",
       "      <th></th>\n",
       "    </tr>\n",
       "  </thead>\n",
       "  <tbody>\n",
       "  </tbody>\n",
       "</table>\n",
       "</div>"
      ],
      "text/plain": [
       "Empty DataFrame\n",
       "Columns: [cant*costoprmd]\n",
       "Index: []"
      ]
     },
     "execution_count": 240,
     "metadata": {},
     "output_type": "execute_result"
    }
   ],
   "source": [
    "f3.groupby([\"val_dias\",\"grupo\"]).agg({\"cant*costoprmd\":\"sum\"})"
   ]
  },
  {
   "cell_type": "code",
   "execution_count": 93,
   "metadata": {},
   "outputs": [],
   "source": [
    "import adm_email as em"
   ]
  },
  {
   "cell_type": "code",
   "execution_count": 94,
   "metadata": {},
   "outputs": [
    {
     "ename": "TypeError",
     "evalue": "Could not guess image MIME subtype",
     "output_type": "error",
     "traceback": [
      "\u001b[1;31m---------------------------------------------------------------------------\u001b[0m",
      "\u001b[1;31mTypeError\u001b[0m                                 Traceback (most recent call last)",
      "\u001b[1;32mC:\\Users\\EXT_MA~1\\AppData\\Local\\Temp/ipykernel_15660/1549030396.py\u001b[0m in \u001b[0;36m<module>\u001b[1;34m\u001b[0m\n\u001b[0;32m      1\u001b[0m \u001b[0mmensaje\u001b[0m \u001b[1;33m=\u001b[0m \u001b[0mem\u001b[0m\u001b[1;33m.\u001b[0m\u001b[0mheader_email\u001b[0m\u001b[1;33m(\u001b[0m\u001b[1;33m)\u001b[0m\u001b[1;33m\u001b[0m\u001b[1;33m\u001b[0m\u001b[0m\n\u001b[0;32m      2\u001b[0m \u001b[0mhtml\u001b[0m \u001b[1;33m=\u001b[0m \u001b[0mem\u001b[0m\u001b[1;33m.\u001b[0m\u001b[0mbody\u001b[0m\u001b[1;33m(\u001b[0m\u001b[1;33m)\u001b[0m\u001b[1;33m\u001b[0m\u001b[1;33m\u001b[0m\u001b[0m\n\u001b[1;32m----> 3\u001b[1;33m \u001b[0mem\u001b[0m\u001b[1;33m.\u001b[0m\u001b[0mbuild_body\u001b[0m\u001b[1;33m(\u001b[0m\u001b[0mhtml\u001b[0m\u001b[1;33m,\u001b[0m\u001b[0mmensaje\u001b[0m\u001b[1;33m)\u001b[0m\u001b[1;33m\u001b[0m\u001b[1;33m\u001b[0m\u001b[0m\n\u001b[0m\u001b[0;32m      4\u001b[0m \u001b[0mem\u001b[0m\u001b[1;33m.\u001b[0m\u001b[0msend_email\u001b[0m\u001b[1;33m(\u001b[0m\u001b[0mmensaje\u001b[0m\u001b[1;33m)\u001b[0m\u001b[1;33m\u001b[0m\u001b[1;33m\u001b[0m\u001b[0m\n",
      "\u001b[1;32mc:\\Users\\ext_maperezr\\proyectos\\fs-emails\\adm_email.py\u001b[0m in \u001b[0;36mbuild_body\u001b[1;34m(email_content, mensaje)\u001b[0m\n\u001b[0;32m     42\u001b[0m     \u001b[0mmsgAlternative\u001b[0m\u001b[1;33m.\u001b[0m\u001b[0mattach\u001b[0m\u001b[1;33m(\u001b[0m\u001b[0mmsgText\u001b[0m\u001b[1;33m)\u001b[0m\u001b[1;33m\u001b[0m\u001b[1;33m\u001b[0m\u001b[0m\n\u001b[0;32m     43\u001b[0m     \u001b[0mfp\u001b[0m \u001b[1;33m=\u001b[0m \u001b[0mopen\u001b[0m\u001b[1;33m(\u001b[0m\u001b[1;34m'fig.png'\u001b[0m\u001b[1;33m,\u001b[0m \u001b[1;34m'rb'\u001b[0m\u001b[1;33m)\u001b[0m\u001b[1;33m\u001b[0m\u001b[1;33m\u001b[0m\u001b[0m\n\u001b[1;32m---> 44\u001b[1;33m     \u001b[0mmsgImage\u001b[0m \u001b[1;33m=\u001b[0m \u001b[0mMIMEImage\u001b[0m\u001b[1;33m(\u001b[0m\u001b[0mfp\u001b[0m\u001b[1;33m.\u001b[0m\u001b[0mread\u001b[0m\u001b[1;33m(\u001b[0m\u001b[1;33m)\u001b[0m\u001b[1;33m)\u001b[0m\u001b[1;33m\u001b[0m\u001b[1;33m\u001b[0m\u001b[0m\n\u001b[0m\u001b[0;32m     45\u001b[0m     \u001b[0mfp\u001b[0m\u001b[1;33m.\u001b[0m\u001b[0mclose\u001b[0m\u001b[1;33m(\u001b[0m\u001b[1;33m)\u001b[0m\u001b[1;33m\u001b[0m\u001b[1;33m\u001b[0m\u001b[0m\n\u001b[0;32m     46\u001b[0m     \u001b[0mfp2\u001b[0m \u001b[1;33m=\u001b[0m \u001b[0mopen\u001b[0m\u001b[1;33m(\u001b[0m\u001b[1;34m'fig.jpg'\u001b[0m\u001b[1;33m,\u001b[0m \u001b[1;34m'rb'\u001b[0m\u001b[1;33m)\u001b[0m\u001b[1;33m\u001b[0m\u001b[1;33m\u001b[0m\u001b[0m\n",
      "\u001b[1;32m~\\Anaconda3\\lib\\email\\mime\\image.py\u001b[0m in \u001b[0;36m__init__\u001b[1;34m(self, _imagedata, _subtype, _encoder, policy, **_params)\u001b[0m\n\u001b[0;32m     41\u001b[0m             \u001b[0m_subtype\u001b[0m \u001b[1;33m=\u001b[0m \u001b[0mimghdr\u001b[0m\u001b[1;33m.\u001b[0m\u001b[0mwhat\u001b[0m\u001b[1;33m(\u001b[0m\u001b[1;32mNone\u001b[0m\u001b[1;33m,\u001b[0m \u001b[0m_imagedata\u001b[0m\u001b[1;33m)\u001b[0m\u001b[1;33m\u001b[0m\u001b[1;33m\u001b[0m\u001b[0m\n\u001b[0;32m     42\u001b[0m         \u001b[1;32mif\u001b[0m \u001b[0m_subtype\u001b[0m \u001b[1;32mis\u001b[0m \u001b[1;32mNone\u001b[0m\u001b[1;33m:\u001b[0m\u001b[1;33m\u001b[0m\u001b[1;33m\u001b[0m\u001b[0m\n\u001b[1;32m---> 43\u001b[1;33m             \u001b[1;32mraise\u001b[0m \u001b[0mTypeError\u001b[0m\u001b[1;33m(\u001b[0m\u001b[1;34m'Could not guess image MIME subtype'\u001b[0m\u001b[1;33m)\u001b[0m\u001b[1;33m\u001b[0m\u001b[1;33m\u001b[0m\u001b[0m\n\u001b[0m\u001b[0;32m     44\u001b[0m         MIMENonMultipart.__init__(self, 'image', _subtype, policy=policy,\n\u001b[0;32m     45\u001b[0m                                   **_params)\n",
      "\u001b[1;31mTypeError\u001b[0m: Could not guess image MIME subtype"
     ]
    }
   ],
   "source": [
    "mensaje = em.header_email()\n",
    "html = em.body()\n",
    "em.build_body(html,mensaje)\n",
    "em.send_email(mensaje)"
   ]
  }
 ],
 "metadata": {
  "interpreter": {
   "hash": "8ebac8f8f364d690520f7fa87029f639f88941f9cdb9d4c74cff5ecb7a0c603e"
  },
  "kernelspec": {
   "display_name": "Python 3.9.7 64-bit ('base': conda)",
   "language": "python",
   "name": "python3"
  },
  "language_info": {
   "codemirror_mode": {
    "name": "ipython",
    "version": 3
   },
   "file_extension": ".py",
   "mimetype": "text/x-python",
   "name": "python",
   "nbconvert_exporter": "python",
   "pygments_lexer": "ipython3",
   "version": "3.9.7"
  },
  "orig_nbformat": 4
 },
 "nbformat": 4,
 "nbformat_minor": 2
}
